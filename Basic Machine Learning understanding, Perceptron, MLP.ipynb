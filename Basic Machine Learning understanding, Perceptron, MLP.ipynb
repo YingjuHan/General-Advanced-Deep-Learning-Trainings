{
 "cells": [
  {
   "cell_type": "markdown",
   "metadata": {
    "colab_type": "text",
    "id": "mqaKsJ1aQfQb"
   },
   "source": [
    "\n",
    "Goals:\n",
    "\n",
    "* Basic Machine Learning understanding\n",
    "* Perceptron algorithm\n",
    "* Multi-layer Adaline algorithm\n"
   ]
  },
  {
   "cell_type": "code",
   "execution_count": 1,
   "metadata": {
    "colab": {
     "base_uri": "https://localhost:8080/",
     "height": 35
    },
    "colab_type": "code",
    "id": "A-a_YgqAvfW-",
    "outputId": "a4395b3a-b927-4909-9c6e-da2bfc67f076"
   },
   "outputs": [],
   "source": [
    "# All libraries we use for this HW, run this block first!\n",
    "#%tensorflow_version 2.x\n",
    "import numpy as np\n",
    "import pandas as pd\n",
    "import seaborn as sns\n",
    "from matplotlib import pyplot as plt\n",
    "from sklearn.datasets import load_linnerud\n",
    "from sklearn.linear_model import LinearRegression\n",
    "from sklearn.cluster import KMeans\n",
    "np.random.seed(8)"
   ]
  },
  {
   "cell_type": "markdown",
   "metadata": {
    "colab_type": "text",
    "id": "wnqt-kT7j7DG"
   },
   "source": [
    "# Question 1\n",
    "Run and read the following code blocks and answer following question:\n",
    "\n",
    "1.   Which learning scheme is used (i.e. supervised, unsupervised or reinforcment learning)?\n",
    "2.   How do we interpret the results? \n",
    "3.   Are they good results, if not, what wrong with them?\n",
    "\n"
   ]
  },
  {
   "cell_type": "markdown",
   "metadata": {
    "colab_type": "text",
    "id": "DnpLL3Rrkskl"
   },
   "source": [
    "### **a)** First block"
   ]
  },
  {
   "cell_type": "code",
   "execution_count": 2,
   "metadata": {
    "colab": {},
    "colab_type": "code",
    "id": "st8-np7Lkvm6"
   },
   "outputs": [
    {
     "name": "stdout",
     "output_type": "stream",
     "text": [
      "Features name: ['Chins', 'Situps']\n",
      "Target name  : Weight\n"
     ]
    },
    {
     "data": {
      "image/png": "[encoded data removed]",
      "text/plain": [
       "<Figure size 864x360 with 2 Axes>"
      ]
     },
     "metadata": {
      "needs_background": "light"
     },
     "output_type": "display_data"
    }
   ],
   "source": [
    "# Description of the dataset\n",
    "# https://scikit-learn.org/stable/modules/generated/sklearn.datasets.load_linnerud.html#sklearn.datasets.load_linnerud\n",
    "data = load_linnerud()\n",
    "X = data.data[:, :2]  # only take first 2 features\n",
    "y = data.target[:, 0]  # only take first target\n",
    "print(\"Features name:\", data.feature_names[:2])\n",
    "print(\"Target name  :\", data.target_names[0])\n",
    "\n",
    "model = LinearRegression()\n",
    "model.fit(X, y)\n",
    "y_pred = model.predict(X)\n",
    "\n",
    "\n",
    "def plot_helper(chins, situps, weight, prediction):\n",
    "  plt.figure(figsize=(12, 5))\n",
    "  ax = plt.subplot(1, 2, 1)\n",
    "  sns.scatterplot(x=\"Chins\",\n",
    "                  y=\"Situps\",\n",
    "                  size='Weight',\n",
    "                  data=pd.DataFrame({\n",
    "                      'Chins': chins,\n",
    "                      'Situps': situps,\n",
    "                      'Weight': weight\n",
    "                  }),\n",
    "                  ax=ax)\n",
    "  ax = plt.subplot(1, 2, 2)\n",
    "  sns.scatterplot(x=\"Chins\",\n",
    "                  y=\"Situps\",\n",
    "                  size='Prediction',\n",
    "                  data=pd.DataFrame({\n",
    "                      'Chins': chins,\n",
    "                      'Situps': situps,\n",
    "                      'Prediction': prediction\n",
    "                  }),\n",
    "                  ax=ax)\n",
    "\n",
    "plot_helper(chins=X[:, 0], situps=X[:, 1], weight=y, prediction=y_pred)"
   ]
  },
  {
   "cell_type": "markdown",
   "metadata": {},
   "source": [
    "ANSWERS OF QUESTION 1 - Block A\n",
    "--------------------------------------------------------------------------------------------------------\n",
    "\n",
    "**1. Which learning scheme is used ? ( Supervised, Unsupervised or Reinforcement ? )**\n",
    "\n",
    "   It is a **Supervised** Algorithm.We can understand from the line,\n",
    "   \n",
    "   **model=LinearRegression()**\n",
    "   \n",
    "   here the LinearRegression model is used which is a member of supervised learning, we have input variables (X) and an        output variable (y) and we use an algorithm to learn the mapping function from the input to the output Y = f(X) .And we    have a labeled data when we are trying to train our model with the following line.\n",
    "   \n",
    "   **model.fit(X, y)**\n",
    "   \n",
    "   A regression problem is when the output variable is a real or continuous value, such as  “weight”. Many                    different models can be used, the simplest is the linear regression. It tries to fit data with the best hyper-plane        which goes through the points.\n",
    "  \n",
    "**2. How do we interpret the result ?**\n",
    "\n",
    "   We plotted two scatter-plot above.In the first one the size of the data points are the real weights.In the second one \n",
    "   the size of the data points are the predicted weights.After training model with the labeled data we used the same data      to test the model, so even if our model made good predictions for this test, it may won't answer successfully when we      test our model with the out-of sample data.But we use the regression algorithms with continuous values on their label.\n",
    "   \n",
    "**3.Are they good results, if not, what wrong with them?**\n",
    "\n",
    "   We need to focus on the size of data points when we want to compare the results of real values and predicted results.\n",
    "   Because in the first visualization, size of the data points indicates the real values, and in the second visualization\n",
    "   size of the data points indicates predicted results.So when we look at the sizes they are different.There may be several \n",
    "   reasons of getting bad results as following,\n",
    "   * A linear regression model may in fact be appropriate but there is a lot of noise in the data.\n",
    "   * There may be non-linear associations, which could be modelled with linear model (by including non-linear terms in the model or by using an additive model) - alternatively a non-linear model may be more appropriate.\n",
    "   \n",
    "   "
   ]
  },
  {
   "cell_type": "markdown",
   "metadata": {
    "colab_type": "text",
    "id": "ILDralqSkwwS"
   },
   "source": [
    "### **b)** Second block"
   ]
  },
  {
   "cell_type": "code",
   "execution_count": 3,
   "metadata": {
    "colab": {},
    "colab_type": "code",
    "id": "6TO1WLqFkyma"
   },
   "outputs": [
    {
     "data": {
      "text/plain": [
       "Text(0, 0.5, 'Situps')"
      ]
     },
     "execution_count": 3,
     "metadata": {},
     "output_type": "execute_result"
    },
    {
     "data": {
      "image/png": "[encoded data removed]",
      "text/plain": [
       "<Figure size 432x288 with 1 Axes>"
      ]
     },
     "metadata": {
      "needs_background": "light"
     },
     "output_type": "display_data"
    }
   ],
   "source": [
    "# We use the same dataset in a)\n",
    "model = KMeans(2)\n",
    "model.fit(X)\n",
    "y_pred = model.predict(X)\n",
    "\n",
    "sns.scatterplot(x=X[:, 0], y=X[:, 1], hue=y_pred)\n",
    "plt.xlabel('Chins')\n",
    "plt.ylabel(\"Situps\")"
   ]
  },
  {
   "cell_type": "markdown",
   "metadata": {},
   "source": [
    "<h1>ANSWERS OF QUESTION 1 - Block B</h1>\n",
    "\n",
    "**1. Which learning scheme is used ? ( Supervised, Unsupervised or Reinforcement ? )**\n",
    "\n",
    "K-means clustering is one of the unsupervised machine learning algorithms.Typically, unsupervised algorithms make inferences from datasets using only input vectors without referring to known, or labelled, outcomes.A cluster refers to a collection of data points aggregated together because of certain similarities.\n",
    "You’ll define a target number k ( here in the above algorithm k is initialized to 2 ), which refers to the number of centroids you need in the dataset. A centroid is the imaginary or real location representing the center of the cluster.\n",
    "\n",
    "**2. How do we interpret the result ?**\n",
    "\n",
    "The K-means clustering algorithm is used to find groups which have not been explicitly labeled in the data. This can be used to confirm some assumptions about what types of groups exist or to identify unknown groups in complex data sets. Once the algorithm has been run and the groups are defined, any new data can be easily assigned to the correct group.\n",
    "\n",
    "Here in the above visualization we define k=2.That means we want our algorithm to classify data points into two clusters.\n",
    "As it can be seen in the above graph one of the groups was indicated with orange( 1 ) and the other group as indicated with blue( 0 ).\n",
    "\n",
    "**3.Are they good results, if not, what wrong with them?**\n",
    "\n",
    "When we are given an unlabeled data, if our unsupervised model was able to differentiate between two different groups, and if these groups were easily seperable when we look at it, it means that the results are good.But if there was a noise in the data and the data points from two different groups are mixed and they were not easily separable, then it means that our models prediction results will not be so much countable when we want to test it with a new data."
   ]
  },
  {
   "cell_type": "markdown",
   "metadata": {
    "colab_type": "text",
    "id": "Vv3ySMM0k1QQ"
   },
   "source": [
    "# Question 2\n",
    "\n",
    "### **a)** Filling in `TODO` of following code block to: _Create perceptron and use it to solve an AND classification problem_\n",
    "\n",
    "Calculating the output of perceptron:\n",
    "\n",
    "$y= \\mathrm{F} \\big( \\sum_{i=0}^D w_i \\cdot x_i \\tag{1} \\big)$\n",
    "\n",
    "where $x_0=1$, $D$ is the number of input features, and $\\mathrm{F}(.)$ is the threshold function, i.e.\n",
    "\n",
    "$\\mathrm{F}(x) =\n",
    "  \\begin{cases}\n",
    "    1       & \\quad \\text{if } x \\geq \\mathrm{THRESHOLD}\\\\\n",
    "    0  & \\quad \\text{if } x < \\mathrm{THRESHOLD}\n",
    "  \\end{cases}$\n",
    "\n",
    "The learning algorithm of perceptron following this update equation:\n",
    "\n",
    "$w_i = w_i + \\lambda \\cdot \\frac{1}{N} \\sum_{j=0}^N(\\bar{y}^{(j)} - y^{(j)}) x^{(j)}_i \\tag{2}$\n",
    "\n",
    "where $N$ is the total number of training examples, $\\bar{y}$ is the predicted value of $y$ (the target variable), $(j)$ is the index of an example, and $\\lambda$ is the learning rate."
   ]
  },
  {
   "cell_type": "code",
   "execution_count": 20,
   "metadata": {
    "colab": {
     "base_uri": "https://localhost:8080/",
     "height": 459
    },
    "colab_type": "code",
    "id": "RG39nxRaxxOQ",
    "outputId": "a449812e-fc28-4b99-e846-625114b5323c"
   },
   "outputs": [
    {
     "name": "stdout",
     "output_type": "stream",
     "text": [
      "Iteration 0: Acc 0.750000 \t [0. 0. 1. 1.]\n",
      "Iteration 1: Acc 0.750000 \t [0. 0. 1. 1.]\n",
      "Iteration 2: Acc 0.750000 \t [0. 0. 1. 1.]\n",
      "Iteration 3: Acc 0.750000 \t [0. 0. 1. 1.]\n",
      "Iteration 4: Acc 0.750000 \t [0. 0. 1. 1.]\n",
      "Iteration 5: Acc 0.750000 \t [0. 0. 1. 1.]\n",
      "Iteration 6: Acc 0.750000 \t [0. 0. 1. 1.]\n",
      "Iteration 7: Acc 0.750000 \t [0. 0. 1. 1.]\n",
      "Iteration 8: Acc 0.750000 \t [0. 0. 1. 1.]\n",
      "Iteration 9: Acc 0.750000 \t [0. 0. 1. 1.]\n",
      "Iteration 10: Acc 0.750000 \t [0. 0. 1. 1.]\n",
      "Iteration 11: Acc 0.750000 \t [0. 0. 1. 1.]\n",
      "Iteration 12: Acc 0.750000 \t [0. 0. 1. 1.]\n",
      "Iteration 13: Acc 0.750000 \t [0. 0. 1. 1.]\n",
      "Iteration 14: Acc 0.750000 \t [0. 0. 1. 1.]\n",
      "Iteration 15: Acc 0.750000 \t [0. 0. 1. 1.]\n",
      "Iteration 16: Acc 0.750000 \t [0. 0. 1. 1.]\n",
      "Iteration 17: Acc 0.750000 \t [0. 0. 1. 1.]\n",
      "Iteration 18: Acc 0.750000 \t [0. 0. 1. 1.]\n",
      "Iteration 19: Acc 0.750000 \t [0. 0. 1. 1.]\n",
      "Iteration 20: Acc 0.750000 \t [0. 0. 1. 1.]\n",
      "Iteration 21: Acc 0.750000 \t [0. 0. 1. 1.]\n",
      "Iteration 22: Acc 0.750000 \t [0. 0. 1. 1.]\n",
      "Iteration 23: Acc 0.750000 \t [0. 0. 1. 1.]\n",
      "Iteration 24: Acc 0.750000 \t [0. 0. 1. 1.]\n",
      "[ 2.21050165 -0.82066626]\n"
     ]
    }
   ],
   "source": [
    "# Number of training iterations\n",
    "NUM_ITERATIONS = 25\n",
    "# Threshold for 0/1 classification\n",
    "THRESHOLD = 0.5\n",
    "# Learning rate\n",
    "LEARNING_RATE = 1e6\n",
    "\n",
    "X = np.array(\n",
    "    [[0, 0],\n",
    "     [0, 1],\n",
    "     [1, 0],\n",
    "     [1, 1]]\n",
    ")\n",
    "# TODO: fill appropriate value for y\n",
    "y = np.array([[0,0,0,1]])\n",
    "\n",
    "# Create perceptron weights (random weights)\n",
    "weights = np.random.randn(2)\n",
    "\n",
    "# Train perceptron\n",
    "for iteration in range(NUM_ITERATIONS):\n",
    "  # TODO: Calculate predictions with current weights (Equation (1))\n",
    "  predictions=np.zeros(X.shape[0])\n",
    "  activation=np.dot(X,weights.T)\n",
    "  for i in range( X.shape[0] ):\n",
    "     if activation[i] >= THRESHOLD:\n",
    "        predictions[i]=1\n",
    "     else:\n",
    "        predictions[i]=0 \n",
    "  \n",
    "  # Calculate accuracy (not needed for training, but to track the learning progress)\n",
    "  accuracy = np.mean(predictions == y)\n",
    "  # Print the accuracy\n",
    "  print(\"Iteration %d: Acc %f \\t %s\" % (iteration, accuracy, str(predictions)))\n",
    "\n",
    "  # TODO: Update weights according to update rule (Equation (2))\n",
    "  \n",
    "  for i in range(X.shape[1]):\n",
    "        y_hat = predictions[i]\n",
    "        if y[0][i]-y_hat == 1:\n",
    "            weights[0] += X[i][0]*LEARNING_RATE*(y[0][i]-y_hat)\n",
    "            weights[1] += X[i][1]*LEARNING_RATE*(y[0][i]-y_hat)\n",
    "            \n",
    "        elif y[0][i]-y_hat == -1:\n",
    "            weights[0] -= X[i][0]*LEARNING_RATE*(y[0][i]-y_hat)\n",
    "            weights[1] -= X[i][1]*LEARNING_RATE*(y[0][i]-y_hat)\n",
    "            \n",
    "           \n",
    "\n",
    "# Print weights for inspection\n",
    "print(weights)\n"
   ]
  },
  {
   "cell_type": "markdown",
   "metadata": {
    "colab_type": "text",
    "id": "t88g_1g8ybQR"
   },
   "source": [
    "### **b)** In theory the perceptron algorithm should be able to solve the `AND` classification problem (i.e. give 100% accuracy). What is missing from above procedure? Could you make it work?"
   ]
  },
  {
   "cell_type": "markdown",
   "metadata": {},
   "source": [
    "Normally, since it is an binary classification by AND it is linearly separable.But in the above code section the equation was designed as following,\n",
    "\n",
    "activation = np.dot(inputs, weights.T ) // that means we have just multiplied weights with inputs\n",
    "\n",
    "But actually, the linear equation form must be,\n",
    "\n",
    "summation = np.dot(inputs, weights.T ) + bias // so if we add the bias in this equation, we can get more true equation\n",
    "\n"
   ]
  },
  {
   "cell_type": "code",
   "execution_count": 21,
   "metadata": {},
   "outputs": [
    {
     "name": "stdout",
     "output_type": "stream",
     "text": [
      "1\n",
      "0\n",
      "0\n",
      "0\n",
      "Accuracy is :  1.0\n"
     ]
    }
   ],
   "source": [
    "#We can make it work as follows\n",
    "\n",
    "import numpy as np\n",
    "\n",
    "class Perceptron(object):\n",
    "\n",
    "    def __init__(self, no_of_inputs, threshold=100, learning_rate=0.01):\n",
    "        self.threshold = threshold\n",
    "        self.learning_rate = learning_rate\n",
    "        self.weights = np.zeros(no_of_inputs + 1)\n",
    "           \n",
    "    def predict(self, inputs):\n",
    "        summation = np.dot(inputs, self.weights[1:]) + self.weights[0]\n",
    "        if summation > 0:\n",
    "          activation = 1\n",
    "        else:\n",
    "          activation = 0            \n",
    "        return activation\n",
    "\n",
    "    def train(self, training_inputs, labels):\n",
    "        for _ in range(self.threshold):\n",
    "            for inputs, label in zip(training_inputs, labels):\n",
    "                prediction = self.predict(inputs)\n",
    "                self.weights[1:] += self.learning_rate * (label - prediction) * inputs\n",
    "                self.weights[0] += self.learning_rate * (label - prediction)\n",
    "                # Here we updated both coefficients and bias, in the weights[]\n",
    "                # weights[1:] contains the coefficients\n",
    "                # weights[0] contains the bias\n",
    "training_inputs = []\n",
    "training_inputs.append(np.array([1, 1]))\n",
    "training_inputs.append(np.array([1, 0]))\n",
    "training_inputs.append(np.array([0, 1]))\n",
    "training_inputs.append(np.array([0, 0]))\n",
    "\n",
    "labels = np.array([1, 0, 0, 0])\n",
    "\n",
    "perceptron = Perceptron(2)\n",
    "perceptron.train(training_inputs, labels)\n",
    "\n",
    "list_pred=[]\n",
    "inputs = np.array([1, 1])\n",
    "print(perceptron.predict(inputs)) \n",
    "list_pred.append(perceptron.predict(inputs))\n",
    "#=> 1\n",
    "\n",
    "inputs = np.array([0, 1])\n",
    "print(perceptron.predict(inputs))\n",
    "list_pred.append(perceptron.predict(inputs))\n",
    "#=> 0\n",
    "\n",
    "inputs = np.array([1, 0])\n",
    "print(perceptron.predict(inputs))\n",
    "list_pred.append(perceptron.predict(inputs))\n",
    "\n",
    "inputs = np.array([0, 0])\n",
    "print(perceptron.predict(inputs))\n",
    "list_pred.append(perceptron.predict(inputs))\n",
    "\n",
    "accuracy = np.mean(labels==list_pred)\n",
    "\n",
    "print(\"Accuracy is : \", accuracy )\n",
    "\n",
    "#Now we get the true values for AND classification"
   ]
  },
  {
   "cell_type": "markdown",
   "metadata": {
    "colab_type": "text",
    "id": "c9Ds3xzLk9oH"
   },
   "source": [
    "# Question 3\n",
    "\n",
    "Create multi-layer Adaline in `pytorch` or `tensorflow` (you only need to do **a)** or **b)** part of this question)\n",
    "\n",
    "Approximation Error for Adaline is given by:\n",
    "\n",
    "$E = \\frac{1}{2} (\\bar{y} - y)^2 \\tag{3}$\n",
    "\n",
    "where $\\bar{y}$ is the predicted value of $y$ (the target variable)\n",
    "\n",
    "Your tasks are divided into 2 steps:\n",
    "\n",
    "1. First filling in the `TODO`, create a multi-layer Adaline, and make the algorithm running\n",
    "2. Modifying the training procedure to get reasonable better results.\n",
    "\n",
    "We will use the `linnerud` dataset from `Question 1` as training data"
   ]
  },
  {
   "cell_type": "code",
   "execution_count": 61,
   "metadata": {
    "colab": {
     "base_uri": "https://localhost:8080/",
     "height": 51
    },
    "colab_type": "code",
    "id": "tGLi29U-6dG6",
    "outputId": "8d1de97d-24a7-4036-cb58-05655bc26231"
   },
   "outputs": [
    {
     "name": "stdout",
     "output_type": "stream",
     "text": [
      "Features name: ['Chins', 'Situps', 'Jumps']\n",
      "Target name  : Weight\n"
     ]
    }
   ],
   "source": [
    "X = data.data  # take all features\n",
    "y = data.target[:, 0]  # only take first target\n",
    "print(\"Features name:\", data.feature_names)\n",
    "print(\"Target name  :\", data.target_names[0])"
   ]
  },
  {
   "cell_type": "markdown",
   "metadata": {
    "colab_type": "text",
    "id": "qDyx4RlB_giH"
   },
   "source": [
    "### b) Multi-layer Adaline with `tensorflow`\n",
    "\n",
    "Documentation for `tensorflow` and `keras` for neural network:\n",
    "\n",
    "https://www.tensorflow.org/guide/keras/overview"
   ]
  },
  {
   "cell_type": "code",
   "execution_count": 62,
   "metadata": {
    "colab": {},
    "colab_type": "code",
    "id": "TPFuvgII_fFW"
   },
   "outputs": [
    {
     "name": "stdout",
     "output_type": "stream",
     "text": [
      "Epoch 0   Error:  16126.485825280277\n",
      "Epoch 1   Error:  12850.234183191107\n",
      "Epoch 2   Error:  3814.928452425172\n",
      "Epoch 3   Error:  1135.9928974063573\n",
      "Epoch 4   Error:  492.82413393605196\n",
      "Epoch 5   Error:  338.37671106238554\n",
      "Epoch 6   Error:  301.289615018874\n",
      "Epoch 7   Error:  292.3841320190534\n",
      "Epoch 8   Error:  290.24573288078903\n",
      "Epoch 9   Error:  289.73225816206525\n",
      "Epoch 10  Error:  289.60896214259236\n",
      "Epoch 11  Error:  289.5793561973744\n",
      "Epoch 12  Error:  289.5722471934003\n",
      "Epoch 13  Error:  289.57054017358803\n",
      "Epoch 14  Error:  289.570130282605\n",
      "Epoch 15  Error:  289.5700318592418\n",
      "Epoch 16  Error:  289.5700082257333\n",
      "Epoch 17  Error:  289.57000255082477\n",
      "Epoch 18  Error:  289.5700011881495\n",
      "Epoch 19  Error:  289.57000086093086\n",
      "Epoch 20  Error:  289.5700007823472\n",
      "Epoch 21  Error:  289.57000076346617\n",
      "Epoch 22  Error:  289.5700007589205\n",
      "Epoch 23  Error:  289.57000075781724\n",
      "Epoch 24  Error:  289.57000075754075\n"
     ]
    },
    {
     "data": {
      "image/png": "[encoded data removed]",
      "text/plain": [
       "<Figure size 864x360 with 2 Axes>"
      ]
     },
     "metadata": {
      "needs_background": "light"
     },
     "output_type": "display_data"
    }
   ],
   "source": [
    "import tensorflow as tf\n",
    "from tensorflow import keras\n",
    "tf.keras.backend.set_floatx('float64')\n",
    "\n",
    "# TODO: modify this single-layer Adaline into multi-layer adaline\n",
    "#network = keras.layers.Dense(1)\n",
    "\n",
    "\n",
    "network = keras.models.Sequential()\n",
    "\n",
    "# add input layer\n",
    "network.add(keras.layers.Dense(\n",
    "    units=50,\n",
    "    input_dim=X.shape[1],\n",
    "    kernel_initializer='glorot_uniform',\n",
    "    bias_initializer='zeros',\n",
    "    activation='tanh') \n",
    ")\n",
    "# add hidden layer\n",
    "network.add(\n",
    "    keras.layers.Dense(\n",
    "        units=50,\n",
    "        input_dim=50,\n",
    "        kernel_initializer='glorot_uniform',\n",
    "        bias_initializer='zeros',\n",
    "        activation='tanh')\n",
    "    )\n",
    "# add output layer\n",
    "network.add(\n",
    "    keras.layers.Dense(\n",
    "        units=1,\n",
    "        input_dim=50,\n",
    "        kernel_initializer='glorot_uniform',\n",
    "        bias_initializer='zeros',\n",
    "        activation='relu')\n",
    "    )\n",
    "\n",
    "\n",
    "def approximation_error(y_pred, y_true):\n",
    "  # TODO: finish this function and return the approximation error of Adaline (Equation 3)\n",
    "  loss = 1/2*tf.pow(y_pred - y_true, 2)\n",
    "  return loss\n",
    "\n",
    "\n",
    "\n",
    "# create Gradient descent optimizer\n",
    "optimizer = keras.optimizers.SGD(lr=0.01)\n",
    "\n",
    "# iterate for 25 epochs\n",
    "for i in range(25):\n",
    "  # forward\n",
    "  with tf.GradientTape() as tape:\n",
    "    y_pred = network(X)\n",
    "    loss = tf.reduce_mean(approximation_error(y_pred, y))\n",
    "\n",
    "  # backward\n",
    "  gradients = tape.gradient(loss, network.trainable_variables)\n",
    "  # optimize\n",
    "  optimizer.apply_gradients(zip(gradients, network.trainable_variables))\n",
    "\n",
    "  # Print out error for monitoring\n",
    "  print(\"Epoch %-3d\" % i, \"Error: \", loss.numpy())\n",
    "\n",
    "# Evaluate our final prediction\n",
    "y_pred = network(X).numpy()\n",
    "\n",
    "y=y.reshape(-1,)\n",
    "\n",
    "#y_pred=y_pred.reshape(1,20)\n",
    "plot_helper(chins=X[:, 0], situps=X[:, 1], weight=y, prediction=y_pred.ravel())\n",
    "\n"
   ]
  }
 ],
 "metadata": {
  "colab": {
   "collapsed_sections": [],
   "name": "HW1_question.ipynb",
   "provenance": []
  },
  "kernelspec": {
   "display_name": "Python 3",
   "language": "python",
   "name": "python3"
  },
  "language_info": {
   "codemirror_mode": {
    "name": "ipython",
    "version": 3
   },
   "file_extension": ".py",
   "mimetype": "text/x-python",
   "name": "python",
   "nbconvert_exporter": "python",
   "pygments_lexer": "ipython3",
   "version": "3.7.3"
  }
 },
 "nbformat": 4,
 "nbformat_minor": 1
}
