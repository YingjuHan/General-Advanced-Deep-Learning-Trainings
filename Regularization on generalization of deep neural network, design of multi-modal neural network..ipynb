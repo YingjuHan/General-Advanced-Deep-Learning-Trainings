{
 "cells": [
  {
   "cell_type": "markdown",
   "metadata": {
    "colab_type": "text",
    "id": "mqaKsJ1aQfQb"
   },
   "source": [
    "\n",
    "Goals:\n",
    "\n",
    "* Understand the effect of regularization on generalization of deep neural network.\n",
    "* Understand the design of multi-modal neural network, how to connect data from different sensory sources using deep network.\n"
   ]
  },
  {
   "cell_type": "code",
   "execution_count": 0,
   "metadata": {
    "colab": {
     "base_uri": "https://localhost:8080/",
     "height": 34
    },
    "colab_type": "code",
    "id": "A-a_YgqAvfW-",
    "outputId": "a5f5447a-767c-4a1a-f04a-2696869bd533"
   },
   "outputs": [
    {
     "name": "stdout",
     "output_type": "stream",
     "text": [
      "TensorFlow 2.x selected.\n"
     ]
    }
   ],
   "source": [
    "# Run this code block to load all the libraries\n",
    "%tensorflow_version 2.x\n",
    "%matplotlib inline\n",
    "import os\n",
    "import numpy as np\n",
    "import seaborn as sns\n",
    "import tensorflow as tf\n",
    "import tensorflow_datasets as tfds\n",
    "from matplotlib import pyplot as plt\n",
    "from sklearn.datasets import load_digits\n",
    "from sklearn.model_selection import train_test_split\n",
    "from tensorflow import keras\n",
    "\n",
    "sns.set()"
   ]
  },
  {
   "cell_type": "markdown",
   "metadata": {
    "colab_type": "text",
    "id": "wnqt-kT7j7DG"
   },
   "source": [
    "# Question 1: Explicit regularization using Dropout"
   ]
  },
  {
   "cell_type": "markdown",
   "metadata": {
    "colab_type": "text",
    "id": "DnpLL3Rrkskl"
   },
   "source": [
    "In `[0]`, the authors show that\n",
    "\n",
    "> \"Deep neural networks easily fit random labels\",\n",
    "\n",
    "and further provide:\n",
    "\n",
    "1. The effective capacity of neural networks is sufficient for memorizing the entire data set.\n",
    "2. Even optimization on random labels remains easy. In fact, training time increases only by a small constant factor compared with training on the true labels.\n",
    "3. Replace the true images by completely random pixels and observe that convolutional neural networks continue to fit the data with zero training error.\n",
    "\n",
    "As a result, the paper suggests two set of regularization methods that might improve the generalization of deep network:\n",
    "\n",
    "* **Explicit regularization**: includes weight decay `[6]`, dropout (`[2]`, `[3]`), and data augmentation `[6]`. These techniques _may improve generalization performance, but is neither necessary nor by itself sufficient for controlling generalization error_. We will try to elaborate this issue in Question 1\n",
    "* **Implicit regularization**: includes early stopping `[5]`, batch normalization `[4]`. These techniques interact with _SGD_ to influence the outcome during learning process, hence, _potentially_ improve the generalization. (Question 2)\n",
    "\n",
    "\n"
   ]
  },
  {
   "cell_type": "code",
   "execution_count": 0,
   "metadata": {
    "cellView": "form",
    "colab": {
     "base_uri": "https://localhost:8080/",
     "height": 261
    },
    "colab_type": "code",
    "id": "1ibkMhx8buBu",
    "outputId": "bc563e0d-7023-4158-cbde-d84c839d4e19"
   },
   "outputs": [
    {
     "name": "stdout",
     "output_type": "stream",
     "text": [
      "Train size: 179\n",
      "Valid size: 180\n",
      "Test  size: 1438\n"
     ]
    },
    {
     "data": {
      "image/png": "[encoded data removed]",
      "text/plain": [
       "<Figure size 216x216 with 1 Axes>"
      ]
     },
     "metadata": {
      "tags": []
     },
     "output_type": "display_data"
    }
   ],
   "source": [
    "#@title Run the following block for loading the data, notice the **extreme** small amount of training data\n",
    "X, y = load_digits(return_X_y=True)\n",
    "X_train, X_test, y_train, y_test = train_test_split(X, y, test_size=0.8)\n",
    "X_train, X_valid, y_train, y_valid = train_test_split(X_train,\n",
    "                                                      y_train,\n",
    "                                                      test_size=0.5)\n",
    "print(\"Train size:\", X_train.shape[0])\n",
    "print(\"Valid size:\", X_valid.shape[0])\n",
    "print(\"Test  size:\", X_test.shape[0])\n",
    "\n",
    "plt.figure(figsize=(3, 3))\n",
    "plt.imshow(X_train[8].reshape(8, 8), cmap='gray')\n",
    "plt.axis('off')\n",
    "_ = plt.title(\"Number:\" + str(y_train[8]))"
   ]
  },
  {
   "cell_type": "markdown",
   "metadata": {
    "colab_type": "text",
    "id": "mbTMTa-lapLY"
   },
   "source": [
    "## **a)** Dropout as data augmentation\n",
    "\n",
    "The procedure of applying dropout is summarized as follow:\n",
    "\n",
    "$ h = W \\cdot X + b, $\n",
    "\n",
    "$ m \\sim Bernoulli(1 - p), $\n",
    "\n",
    "$ y = m \\times f(h), $\n",
    "\n",
    "where:\n",
    "\n",
    "* $W$: weight matrix\n",
    "* $X$: input matrix\n",
    "* $b$: bias vector\n",
    "* $p$: scalar value $(0, 1)$, the dropout rate\n",
    "* $Bernoulli(\\cdot)$: is sampling from Bernoullil distribution with the given success rate.\n",
    "* $f(\\cdot)$: is the activation function\n",
    "\n",
    "Use this procedure to finish the implementaiton of `Dropout` layer. \n",
    "\n",
    "Then achieve > 90% accuracy on test set by adding `Dropout` to the neural network.\n",
    "\n",
    "**NOTE**: it is common practice to reduce the dropout rate as the network getting deeper, since deep layers represent higher level of abstraction and is more sensitive to noise."
   ]
  },
  {
   "cell_type": "code",
   "execution_count": 0,
   "metadata": {
    "colab": {},
    "colab_type": "code",
    "id": "xtakW_J7dDv5"
   },
   "outputs": [],
   "source": [
    "class Dropout(keras.layers.Layer):\n",
    "\n",
    "  def __init__(self, p):\n",
    "    # p: probability of dropping out a value\n",
    "    super().__init__()\n",
    "    assert 0 < p < 1\n",
    "    self.p = p\n",
    "\n",
    "  def call(self, inputs, training=None):\n",
    "    if not training:\n",
    "      return inputs\n",
    "\n",
    "    mask = tf.random.uniform(shape=tf.shape(inputs), dtype=inputs.dtype)\n",
    "    mask = tf.cast(mask >= self.p, dtype=inputs.dtype)\n",
    "    outputs = inputs * mask\n",
    "    outputs = outputs / (1 - self.p)\n",
    "    return outputs"
   ]
  },
  {
   "cell_type": "code",
   "execution_count": 0,
   "metadata": {
    "colab": {
     "base_uri": "https://localhost:8080/",
     "height": 285
    },
    "colab_type": "code",
    "id": "st8-np7Lkvm6",
    "outputId": "d595181d-48ff-42c6-b474-96c8b8f74195"
   },
   "outputs": [
    {
     "name": "stdout",
     "output_type": "stream",
     "text": [
      "[Test] loss:0.77 acc:0.75\n"
     ]
    },
    {
     "data": {
      "image/png": "[encoded data removed]",
      "text/plain": [
       "<Figure size 432x288 with 1 Axes>"
      ]
     },
     "metadata": {
      "tags": []
     },
     "output_type": "display_data"
    }
   ],
   "source": [
    "# SOLUTION: add dropout to this network to improve the test accuracy to 90%\n",
    "model = keras.Sequential([\n",
    "    # Dropout(0.3),\n",
    "    keras.layers.Dense(32, activation='relu'),\n",
    "    keras.layers.Dense(32, activation='relu'),\n",
    "    keras.layers.Dense(10, activation='softmax')\n",
    "])\n",
    "model.compile(\n",
    "    optimizer='sgd',\n",
    "    loss='sparse_categorical_crossentropy',\n",
    "    metrics=['accuracy'],\n",
    ")\n",
    "model.fit(X_train,\n",
    "          y_train,\n",
    "          validation_data=(X_valid, y_valid),\n",
    "          epochs=100,\n",
    "          batch_size=256,\n",
    "          verbose=False)\n",
    "print(\"[Test] loss:%.2f acc:%.2f\" %\n",
    "      tuple(model.evaluate(X_test, y_test, verbose=False)))\n",
    "# just show the learning curve here\n",
    "history = model.history.history\n",
    "plt.figure()\n",
    "plt.plot(history['loss'], label='Train loss')\n",
    "plt.plot(history['val_loss'], label='Valid loss')\n",
    "_ = plt.legend()"
   ]
  },
  {
   "cell_type": "markdown",
   "metadata": {
    "colab_type": "text",
    "id": "ytmbHBU1bFEE"
   },
   "source": [
    "## **b)** `DropConnect` - the network of networks.\n",
    "\n",
    "The following code block implements `DropConnect` algorithm `[3]` for fully-connected network (a.k.a `Dense` layer).\n",
    "\n",
    "Answer the following question:\n",
    "\n",
    "* Writing down the procedure of the `DropConnect` algorithm in the same manner as `Dropout` in **a)**\n",
    "* Add `DropConnect` to the network below to achieve > 90% accuracy on test set.\n",
    "* Compare `DropConnect` to `Dropout` which algorithm is better? What are the differences between them?\n",
    "\n",
    "---\n",
    "The `DropConnect` algorithm:\n",
    "\n",
    "\n",
    "\n",
    "$ m \\sim Bernoulli(1 - p), $\n",
    "\n",
    "$ W_{drop} = W \\times m, $\n",
    "\n",
    "$ h = W_{drop} \\cdot X + b, $\n",
    "\n",
    "$ y = f(h). $\n",
    "\n",
    "`DropConnect` can be seen as generalized version of `Dropout`.\n",
    "In `Dropout`, only the network activations are dropped, hence, it only affect the incoming input of the next layer.\n",
    "\n",
    "`DropConnect` randomly remove the weights (i.e. the connection) from one layer to the next layer, as a result, affects both the outcome of previous layer and the income of the next layer.\n",
    "\n",
    "`Dropout` augments the data, while `DropConnect` augments the network architecture. Training a `DropConnect` network is like ensemble infinite set of different network architecture."
   ]
  },
  {
   "cell_type": "code",
   "execution_count": 0,
   "metadata": {
    "colab": {},
    "colab_type": "code",
    "id": "u9f8wbhXbHGc"
   },
   "outputs": [],
   "source": [
    "class DropConnectDense(keras.layers.Layer):\n",
    "\n",
    "  def __init__(self, units, activation=None, p=0.3, **kwargs):\n",
    "    super().__init__(**kwargs)\n",
    "    self.units = int(units)\n",
    "    self.activation = keras.activations.get(activation)\n",
    "    assert 0 < p < 1\n",
    "    self.p = p\n",
    "\n",
    "  def build(self, input_shape):\n",
    "    last_dim = input_shape[-1]\n",
    "    self.kernel = self.add_weight('kernel',\n",
    "                                  shape=[last_dim, self.units],\n",
    "                                  initializer='glorot_uniform',\n",
    "                                  dtype=self.dtype,\n",
    "                                  trainable=True)\n",
    "    self.bias = self.add_weight('bias',\n",
    "                                shape=(self.units,),\n",
    "                                initializer='zeros',\n",
    "                                dtype=self.dtype,\n",
    "                                trainable=True)\n",
    "    return super().build(input_shape)\n",
    "\n",
    "  def call(self, inputs, training=None):\n",
    "    kernel = self.kernel\n",
    "    bias = self.bias\n",
    "    if training:\n",
    "      m = tf.random.uniform(shape=tf.shape(kernel), dtype=kernel.dtype)\n",
    "      m = tf.cast(m > self.p, dtype=kernel.dtype)\n",
    "      kernel = (kernel * m) / (1 - self.p)\n",
    "    return self.activation(inputs @ kernel + bias)"
   ]
  },
  {
   "cell_type": "code",
   "execution_count": 0,
   "metadata": {
    "colab": {
     "base_uri": "https://localhost:8080/",
     "height": 285
    },
    "colab_type": "code",
    "id": "xAiqAVGLlrv_",
    "outputId": "3edd0817-a222-4352-84e2-8b7ab98adcec"
   },
   "outputs": [
    {
     "name": "stdout",
     "output_type": "stream",
     "text": [
      "[Test] loss:0.32 acc:0.91\n"
     ]
    },
    {
     "data": {
      "image/png": "[encoded data removed]",
      "text/plain": [
       "<Figure size 432x288 with 1 Axes>"
      ]
     },
     "metadata": {
      "tags": []
     },
     "output_type": "display_data"
    }
   ],
   "source": [
    "# SOLUTION: add DropConnect to this network to improve the test accuracy to 90%\n",
    "model = keras.Sequential([\n",
    "    DropConnectDense(32, activation='relu'),\n",
    "    keras.layers.Dense(32, activation='relu'),    \n",
    "    keras.layers.Dense(10, activation='softmax')\n",
    "])\n",
    "model.compile(\n",
    "    optimizer='sgd',\n",
    "    loss='sparse_categorical_crossentropy',\n",
    "    metrics=['accuracy'],\n",
    ")\n",
    "model.fit(X_train,\n",
    "          y_train,\n",
    "          validation_data=(X_valid, y_valid),\n",
    "          epochs=1000,\n",
    "          batch_size=256,\n",
    "          verbose=False)\n",
    "print(\"[Test] loss:%.2f acc:%.2f\" %\n",
    "      tuple(model.evaluate(X_test, y_test, verbose=False)))\n",
    "# just show the learning curve here\n",
    "history = model.history.history\n",
    "plt.figure()\n",
    "plt.plot(history['loss'], label='Train loss')\n",
    "plt.plot(history['val_loss'], label='Valid loss')\n",
    "_ = plt.legend()"
   ]
  },
  {
   "cell_type": "markdown",
   "metadata": {
    "colab_type": "text",
    "id": "fziBrK-7I8As"
   },
   "source": [
    "# Question 2: Implicit regularization\n",
    "\n",
    "According to `[4]`, training deep Networks is complicated by the fact\n",
    "that: \n",
    "\n",
    "1. The distribution of each layer’s inputs changes during\n",
    "training, as the parameters of the previous layers change.\n",
    "2. This slows down the training by requiring lower learning\n",
    "rates and careful parameter initialization, and makes it notoriously hard to train models with saturating nonlinearities.\n",
    "\n",
    "This phenomenon as `internal covariate shift`, imagine _\"solving hanoi tower problem on an unicycle\"_.\n",
    "\n",
    "They propose batch normalization algorithm for tackling the issue:\n",
    "![alt text](https://drive.google.com/uc?export=view&id=1_6R1kXCPBSYJ43u8kojIOIvXsab-mR-v)\n"
   ]
  },
  {
   "cell_type": "markdown",
   "metadata": {
    "colab_type": "text",
    "id": "2bwl0LezcDe6"
   },
   "source": [
    "## **a)** Filling in the **TODO** of the following code block, add batch normalization and fix early stopping algorithm to achieve at least 92% accuracy on test set\n",
    "\n",
    "Detail of batch normalization layer could be found here: https://www.tensorflow.org/api_docs/python/tf/keras/layers/BatchNormalization\n",
    "\n",
    "and early stopping callback: https://www.tensorflow.org/api_docs/python/tf/keras/callbacks/EarlyStopping"
   ]
  },
  {
   "cell_type": "code",
   "execution_count": 0,
   "metadata": {
    "colab": {
     "base_uri": "https://localhost:8080/",
     "height": 319
    },
    "colab_type": "code",
    "id": "tI4ufsJRXQbi",
    "outputId": "cfbdac97-e08a-45bc-f225-dab5a2d5c413"
   },
   "outputs": [
    {
     "name": "stdout",
     "output_type": "stream",
     "text": [
      "[Train] loss:0.11 acc:1.00\n",
      "[Valid] loss:0.35 acc:0.92\n",
      "[Test] loss:0.40 acc:0.92\n"
     ]
    },
    {
     "data": {
      "image/png": "[encoded data removed]",
      "text/plain": [
       "<Figure size 432x288 with 1 Axes>"
      ]
     },
     "metadata": {
      "tags": []
     },
     "output_type": "display_data"
    }
   ],
   "source": [
    "# Fix the random seed so the same initialization every run\n",
    "np.random.seed(8)\n",
    "tf.random.set_seed(8)\n",
    "\n",
    "# SOLUTION: add batch normalization to this model to achieve at least 92% accuracy\n",
    "model = keras.Sequential([\n",
    "    # keras.layers.Dropout(0.3),\n",
    "    keras.layers.Reshape(target_shape=(8, 8, 1)),\n",
    "    keras.layers.Conv2D(16, 3, activation='linear', use_bias=False),\n",
    "    keras.layers.BatchNormalization(),\n",
    "    keras.layers.Activation('relu'),\n",
    "    keras.layers.Conv2D(32, 5, strides=2, activation='linear', use_bias=False),\n",
    "    keras.layers.BatchNormalization(),\n",
    "    keras.layers.Activation('relu'),\n",
    "    keras.layers.Flatten(),\n",
    "    keras.layers.Dense(10, activation='softmax')\n",
    "])\n",
    "\n",
    "model.compile(\n",
    "    optimizer='sgd',\n",
    "    loss='sparse_categorical_crossentropy',\n",
    "    metrics=['accuracy'],\n",
    ")\n",
    "model.fit(X_train,\n",
    "          y_train,\n",
    "          validation_data=(X_valid, y_valid),\n",
    "          epochs=500,\n",
    "          batch_size=256,\n",
    "          # TODO: The early stop algorithm here is broken, fix it!\n",
    "          callbacks=[keras.callbacks.EarlyStopping()],\n",
    "          verbose=False)\n",
    "\n",
    "print(\"[Train] loss:%.2f acc:%.2f\" %\n",
    "      tuple(model.evaluate(X_train, y_train, verbose=False)))\n",
    "print(\"[Valid] loss:%.2f acc:%.2f\" %\n",
    "      tuple(model.evaluate(X_valid, y_valid, verbose=False)))\n",
    "print(\"[Test] loss:%.2f acc:%.2f\" %\n",
    "      tuple(model.evaluate(X_test, y_test, verbose=False)))\n",
    "\n",
    "history = model.history.history\n",
    "plt.figure()\n",
    "plt.plot(history['loss'], label='Train loss')\n",
    "plt.plot(history['val_loss'], label='Valid loss')\n",
    "_ = plt.legend()"
   ]
  },
  {
   "cell_type": "markdown",
   "metadata": {
    "colab_type": "text",
    "id": "821Jq80Dcggx"
   },
   "source": [
    "## **b)** Can you use `Dropout` together with `BatchNormalization` to achieve better performance?\n",
    "\n",
    "According to `[4]`, it is recommended to remove `Dropout`. Batch Normalization fulfills some of the same goals as Dropout (i.e. it speeds up training, without increasing overfitting).\n",
    "\n",
    "When training with Batch Normalization, a training example is seen in conjunction with other examples in the mini-batch, and the training network no longer producing deterministic values for a given training example.\n",
    "\n",
    "However, [a theorical analysis is needed to justify this disharmony](https://arxiv.org/pdf/1801.05134.pdf). When Dropout layers are applied before Batch Normalization, “variance shift” phenomenon happens. Because dropout behave differently during test time, this lead to improper neural variance and shift, as a result, an unexpected prediction.\n",
    "\n",
    "Recent experiments suggest benefit from applying an [independent components block](https://arxiv.org/pdf/1905.05928.pdf) (i.e. BN => Dropout) to provide better uncorrelated features, and lead to better performance in residual network"
   ]
  },
  {
   "cell_type": "markdown",
   "metadata": {
    "colab_type": "text",
    "id": "c9Ds3xzLk9oH"
   },
   "source": [
    "# Question 3: Multi-modal deep learning\n",
    "\n",
    "Create a **multi-modal** calculator using the trained neural network: \n",
    "\n",
    "* Given an image of hand-written digits\n",
    "* and an audio segment of spoken digits\n",
    "\n",
    "The program should output the sum of the numbers represented in both the image and the audio file. \n",
    "\n",
    "Test the program with few different combinations of image and audio"
   ]
  },
  {
   "cell_type": "code",
   "execution_count": 0,
   "metadata": {
    "cellView": "form",
    "colab": {},
    "colab_type": "code",
    "id": "bPGeUZb4fzNI"
   },
   "outputs": [],
   "source": [
    "#@title Run this block for all the functions that preprocessing the data\n",
    "# ====== load MNIST ====== #\n",
    "def deprocess(img):\n",
    "  r\"\"\" [-1, 1] -> [0,255] \"\"\"\n",
    "  img = 255 * (img + 1.0) / 2.0\n",
    "  return tf.cast(img, tf.uint8)\n",
    "\n",
    "\n",
    "def process_image(data):\n",
    "  r\"\"\" [0,255] -> [-1, 1]\"\"\"\n",
    "  img = data['image']\n",
    "  lab = data['label']\n",
    "  img = (tf.cast(img, tf.float32) / 255.0 - 0.5) * 2.0\n",
    "  return img, tf.cast(lab, tf.float32)\n",
    "\n",
    "\n",
    "# ====== FSDD ====== #\n",
    "def load_fsdd():\n",
    "  import zipfile\n",
    "  url = 'https://github.com/Jakobovski/free-spoken-digit-dataset/archive/v1.0.8.zip'\n",
    "  path = keras.utils.get_file('fsdd.zip', url)\n",
    "  outpath = os.path.join(os.path.dirname(path), 'fsdd')\n",
    "  if not os.path.exists(outpath):\n",
    "    with zipfile.ZipFile(path, 'r') as zf:\n",
    "      zf.extractall(outpath)\n",
    "  outpath = os.path.join(outpath, 'free-spoken-digit-dataset-1.0.8/recordings')\n",
    "  all_files = [os.path.join(outpath, f) for f in os.listdir(outpath)]\n",
    "  np.random.shuffle(all_files)\n",
    "  return all_files\n",
    "\n",
    "\n",
    "mel_weight_matrix = tf.signal.linear_to_mel_weight_matrix(\n",
    "    num_mel_bins=40,\n",
    "    num_spectrogram_bins=257,\n",
    "    sample_rate=8000,\n",
    "    lower_edge_hertz=125.0,\n",
    "    upper_edge_hertz=3800.0)\n",
    "\n",
    "\n",
    "def wav2spec(path, mel_scale=True):\n",
    "  name = tf.strings.split(tf.strings.split(path, '/')[-1], '_')\n",
    "  digit = tf.strings.to_number(name[0], tf.float32)\n",
    "  speaker = name[1]\n",
    "  f = tf.io.read_file(path)\n",
    "  y, sr = tf.audio.decode_wav(f)\n",
    "  y = y[:, 0]  # only first channel\n",
    "  sr = tf.cast(sr, tf.float32)\n",
    "  s = tf.signal.stft(y,\n",
    "                     frame_length=tf.cast(0.025 * sr, tf.int32),\n",
    "                     frame_step=tf.cast(0.005 * sr, tf.int32),\n",
    "                     fft_length=512)\n",
    "  if mel_scale:\n",
    "    spec = tf.tensordot(tf.abs(s), mel_weight_matrix, 1)\n",
    "  else:\n",
    "    spec = tf.pow(tf.abs(s), 2)\n",
    "  spec = tf.math.log(spec + 1e-6)\n",
    "  return y, spec, digit, speaker\n",
    "\n",
    "\n",
    "# ====== plot spectrogram ====== #\n",
    "def create_calculator(img_dataset,\n",
    "                      audio_filelist,\n",
    "                      batch_size=64,\n",
    "                      max_length=200,\n",
    "                      training=None):\n",
    "  from collections import defaultdict\n",
    "  audio_filelist = list(audio_filelist)\n",
    "  np.random.shuffle(audio_filelist)\n",
    "  n_audio = len(audio_filelist)\n",
    "  audio = tf.convert_to_tensor(audio_filelist)\n",
    "\n",
    "  def process(data):\n",
    "    img, digit1 = process_image(data)\n",
    "    path = audio[tf.cast(tf.random.uniform(shape=()) * n_audio, tf.int64)]\n",
    "    y, spec, digit2, speaker = wav2spec(path)\n",
    "    spec = spec[:max_length]\n",
    "    return img, spec, tf.cast(digit1, tf.float32) + tf.cast(digit2, tf.float32)\n",
    "\n",
    "  if training:\n",
    "    ds = img_dataset.shuffle(10000)\n",
    "  else:\n",
    "    ds = img_dataset\n",
    "  ds = ds.map(process).cache()\n",
    "  structure = tf.data.experimental.get_structure(ds)\n",
    "  n_features = structure[1].shape[1]\n",
    "  ds = ds.padded_batch(batch_size,\n",
    "                       padded_shapes=(structure[0].shape,\n",
    "                                      [max_length, n_features], []))\n",
    "  ds = ds.map(lambda x, y, z: ((x, y), z)).prefetch(\n",
    "      tf.data.experimental.AUTOTUNE)\n",
    "  return ds"
   ]
  },
  {
   "cell_type": "code",
   "execution_count": 0,
   "metadata": {
    "colab": {
     "base_uri": "https://localhost:8080/",
     "height": 817,
     "referenced_widgets": [
      "ee4f6e70544e45b1916f00d63616e7d1",
      "fa397be5738243b7a2a6f8d74f0c9306",
      "d73018c1de644d8fbbed692dde1137cb",
      "c576aedab0a24dd9bfedbb78779b58be",
      "1351d964b5544b9cb4bb4605fe09760f",
      "64439f8853ba4d4fb30f4a21710c235b",
      "c65173429dbe4686a92ad2b2d0e5dc70",
      "12f5fcb5b1664a5fb6c93bf79783751d"
     ]
    },
    "colab_type": "code",
    "id": "wjKZux1CiyC8",
    "outputId": "0390073d-eda9-49ba-d5ae-68b903b97b6a"
   },
   "outputs": [
    {
     "name": "stderr",
     "output_type": "stream",
     "text": [
      "WARNING:absl:Dataset mnist is hosted on GCS. It will automatically be downloaded to your\n",
      "local data directory. If you'd instead prefer to read directly from our public\n",
      "GCS bucket (recommended if you're running on GCP), you can instead set\n",
      "data_dir=gs://tfds-data/datasets.\n",
      "\n"
     ]
    },
    {
     "name": "stdout",
     "output_type": "stream",
     "text": [
      "\u001b[1mDownloading and preparing dataset mnist (11.06 MiB) to /root/tensorflow_datasets/mnist/1.0.0...\u001b[0m\n"
     ]
    },
    {
     "data": {
      "application/vnd.jupyter.widget-view+json": {
       "model_id": "ee4f6e70544e45b1916f00d63616e7d1",
       "version_major": 2,
       "version_minor": 0
      },
      "text/plain": [
       "HBox(children=(IntProgress(value=0, description='Dl Completed...', max=19, style=ProgressStyle(description_wid…"
      ]
     },
     "metadata": {
      "tags": []
     },
     "output_type": "display_data"
    },
    {
     "name": "stdout",
     "output_type": "stream",
     "text": [
      "\n",
      "\n",
      "\u001b[1mDataset mnist downloaded and prepared to /root/tensorflow_datasets/mnist/1.0.0. Subsequent calls will reuse this data.\u001b[0m\n",
      "Downloading data from https://github.com/Jakobovski/free-spoken-digit-dataset/archive/v1.0.8.zip\n",
      "7241728/Unknown - 2s 0us/stepImage shape: (28, 28, 1)\n",
      "Audio shape: (200, 40)\n"
     ]
    },
    {
     "data": {
      "image/png": "[encoded data removed]",
      "text/plain": [
       "<Figure size 432x576 with 16 Axes>"
      ]
     },
     "metadata": {
      "tags": []
     },
     "output_type": "display_data"
    }
   ],
   "source": [
    "# This block will create train and test data\n",
    "mnist = tfds.load('mnist')\n",
    "fsdd = load_fsdd()\n",
    "train_files = fsdd[:int(0.8 * len(fsdd))]\n",
    "test_files = fsdd[int(0.8 * len(fsdd)):]\n",
    "\n",
    "train = create_calculator(mnist['train'], train_files, training=True)\n",
    "test = create_calculator(mnist['test'], test_files, training=False)\n",
    "struture = tf.data.experimental.get_structure(train)\n",
    "image_shape = struture[0][0].shape[1:]\n",
    "audio_shape = struture[0][1].shape[1:]\n",
    "print(\"Image shape:\", image_shape)\n",
    "print(\"Audio shape:\", audio_shape)\n",
    "\n",
    "# plot couple of examples\n",
    "for (img, spec), y in create_calculator(mnist['train'], train_files):\n",
    "  break\n",
    "plt.figure(figsize=(6, 8))\n",
    "for idx in range(8):\n",
    "  i = img[idx].numpy()\n",
    "  s = spec[idx].numpy()\n",
    "  j = y[idx]\n",
    "  plt.subplot(8, 2, idx * 2 + 1)\n",
    "  plt.imshow(i[:, :, 0], cmap='gray')\n",
    "  plt.axis('off')\n",
    "  ax = plt.subplot(8, 2, idx * 2 + 2)\n",
    "  ax.pcolorfast(s.T)\n",
    "  plt.title('Sum: %d' % j, fontsize=8)\n",
    "  plt.axis('off')\n",
    "plt.tight_layout()"
   ]
  },
  {
   "cell_type": "markdown",
   "metadata": {
    "colab_type": "text",
    "id": "Im1JrmJMkPbQ"
   },
   "source": [
    "Finish the implementation of `MultiModalArithmetic` and achieve at least 90% accuracy of the summation between image and audio file.\n",
    "\n",
    "Refer to `[7, 8, 9]` for design such system. Our a goal is, step-by-step:\n",
    "\n",
    "* Create an unified representation of by combining specific representation of image and audio\n",
    "* Use this representation to train a network that recognize the summation of the digit.\n",
    "\n",
    "The follow figure is a good starting point:\n",
    "![alt text](https://drive.google.com/uc?export=view&id=1BCk916Qo-Qy7U8P-y1kgGVVteaEQ93Ra)"
   ]
  },
  {
   "cell_type": "code",
   "execution_count": 0,
   "metadata": {
    "colab": {},
    "colab_type": "code",
    "id": "2Z7fVi966ycP"
   },
   "outputs": [],
   "source": [
    "class MultiModalArithmetic(keras.Model):\n",
    "\n",
    "  def __init__(self, image_shape, audio_shape):\n",
    "    super().__init__()\n",
    "    self.model_image = keras.Sequential([\n",
    "        keras.layers.Conv2D(16, 3, activation='relu', input_shape=image_shape),\n",
    "        keras.layers.MaxPool2D(2),\n",
    "        keras.layers.Conv2D(32, 3, activation='relu'),\n",
    "        keras.layers.MaxPool2D(2),\n",
    "        keras.layers.Conv2D(64, 3, activation='relu'),\n",
    "        keras.layers.MaxPool2D(2),\n",
    "        keras.layers.Flatten(),\n",
    "    ],\n",
    "                                        name=\"ImageNet\")\n",
    "    self.model_audio = keras.Sequential([\n",
    "        keras.layers.Conv1D(32, 3, activation='relu', input_shape=audio_shape),\n",
    "        keras.layers.Conv1D(64, 5, strides=2, activation='relu'),\n",
    "        keras.layers.Conv1D(64, 5, strides=2, activation='relu'),\n",
    "        keras.layers.Conv1D(64, 5, strides=2, activation='relu'),\n",
    "        keras.layers.AvgPool1D(2),\n",
    "        keras.layers.Flatten(),\n",
    "    ],\n",
    "                                        name=\"AudioNet\")\n",
    "    self.model_sum = keras.Sequential([\n",
    "        keras.layers.Dense(256, activation='relu'),\n",
    "        keras.layers.Dense(19, activation='softmax'),\n",
    "    ],\n",
    "                                      name=\"Sumnet\")\n",
    "\n",
    "  def call(self, inputs, training=None):\n",
    "    image, audio = inputs\n",
    "    image_feats = self.model_image(image, training=training)\n",
    "    audio_feats = self.model_audio(audio, training=training)\n",
    "\n",
    "    features = tf.concat([image_feats, audio_feats], axis=1)\n",
    "    return self.model_sum(features, training=training)"
   ]
  },
  {
   "cell_type": "code",
   "execution_count": 0,
   "metadata": {
    "colab": {
     "base_uri": "https://localhost:8080/",
     "height": 51
    },
    "colab_type": "code",
    "id": "7cOUruYygHXM",
    "outputId": "3f68391c-0a29-4337-f846-88e2b710f90f"
   },
   "outputs": [
    {
     "name": "stdout",
     "output_type": "stream",
     "text": [
      "18760/18760 [==============================] - 421s 22ms/step - loss: 0.0894 - accuracy: 0.9707\n",
      "    157/Unknown - 43s 271ms/step - loss: 0.3824 - accuracy: 0.9462"
     ]
    },
    {
     "data": {
      "text/plain": [
       "[0.3823634216822921, 0.9462]"
      ]
     },
     "execution_count": 11,
     "metadata": {
      "tags": []
     },
     "output_type": "execute_result"
    }
   ],
   "source": [
    "model = MultiModalArithmetic(image_shape, audio_shape)\n",
    "model.compile(optimizer='adam',\n",
    "              loss='sparse_categorical_crossentropy',\n",
    "              metrics=['accuracy'])\n",
    "model.fit(train.repeat(20))\n",
    "model.evaluate(test)"
   ]
  },
  {
   "cell_type": "code",
   "execution_count": 0,
   "metadata": {
    "colab": {},
    "colab_type": "code",
    "id": "t_UiSyeVpay-"
   },
   "outputs": [],
   "source": [
    "# Another design with much less parameters, using shared network for both visual and audio\n",
    "class SharedConvArithmetic(keras.Model):\n",
    "\n",
    "  def __init__(self, image_shape, audio_shape):\n",
    "    super().__init__()\n",
    "    self.model_share = keras.Sequential([\n",
    "        keras.layers.Conv2D(16, 3, activation='relu'),\n",
    "        keras.layers.MaxPool2D(2),\n",
    "        keras.layers.Conv2D(32, 3, activation='relu'),\n",
    "        keras.layers.MaxPool2D(2),\n",
    "        keras.layers.Conv2D(64, 3, activation='relu'),\n",
    "        keras.layers.MaxPool2D(2),\n",
    "        keras.layers.Flatten(),\n",
    "    ],\n",
    "                                        name=\"AudioVisualNet\")\n",
    "    self.model_sum = keras.Sequential([\n",
    "        keras.layers.Dense(256, activation='relu'),\n",
    "        keras.layers.Dense(19, activation='softmax'),\n",
    "    ],\n",
    "                                      name=\"Sumnet\")\n",
    "\n",
    "  def call(self, inputs):\n",
    "    image, audio = inputs\n",
    "    # convert audio signal to 2D image with only 1 channel\n",
    "    audio = tf.expand_dims(audio, axis=-1)\n",
    "    image_feats = self.model_share(image)\n",
    "    audio_feats = self.model_share(audio)\n",
    "    features = tf.concat([image_feats, audio_feats], axis=1)\n",
    "    return self.model_sum(features)"
   ]
  }
 ],
 "metadata": {
  "accelerator": "GPU",
  "colab": {
   "collapsed_sections": [],
   "name": "HW6_solution.ipynb",
   "provenance": []
  },
  "kernelspec": {
   "display_name": "Python 3",
   "language": "python",
   "name": "python3"
  },
  "language_info": {
   "codemirror_mode": {
    "name": "ipython",
    "version": 3
   },
   "file_extension": ".py",
   "mimetype": "text/x-python",
   "name": "python",
   "nbconvert_exporter": "python",
   "pygments_lexer": "ipython3",
   "version": "3.7.3"
  },
  "widgets": {
   "application/vnd.jupyter.widget-state+json": {
    "12f5fcb5b1664a5fb6c93bf79783751d": {
     "model_module": "@jupyter-widgets/base",
     "model_name": "LayoutModel",
     "state": {
      "_model_module": "@jupyter-widgets/base",
      "_model_module_version": "1.2.0",
      "_model_name": "LayoutModel",
      "_view_count": null,
      "_view_module": "@jupyter-widgets/base",
      "_view_module_version": "1.2.0",
      "_view_name": "LayoutView",
      "align_content": null,
      "align_items": null,
      "align_self": null,
      "border": null,
      "bottom": null,
      "display": null,
      "flex": null,
      "flex_flow": null,
      "grid_area": null,
      "grid_auto_columns": null,
      "grid_auto_flow": null,
      "grid_auto_rows": null,
      "grid_column": null,
      "grid_gap": null,
      "grid_row": null,
      "grid_template_areas": null,
      "grid_template_columns": null,
      "grid_template_rows": null,
      "height": null,
      "justify_content": null,
      "justify_items": null,
      "left": null,
      "margin": null,
      "max_height": null,
      "max_width": null,
      "min_height": null,
      "min_width": null,
      "object_fit": null,
      "object_position": null,
      "order": null,
      "overflow": null,
      "overflow_x": null,
      "overflow_y": null,
      "padding": null,
      "right": null,
      "top": null,
      "visibility": null,
      "width": null
     }
    },
    "1351d964b5544b9cb4bb4605fe09760f": {
     "model_module": "@jupyter-widgets/controls",
     "model_name": "ProgressStyleModel",
     "state": {
      "_model_module": "@jupyter-widgets/controls",
      "_model_module_version": "1.5.0",
      "_model_name": "ProgressStyleModel",
      "_view_count": null,
      "_view_module": "@jupyter-widgets/base",
      "_view_module_version": "1.2.0",
      "_view_name": "StyleView",
      "bar_color": null,
      "description_width": "initial"
     }
    },
    "64439f8853ba4d4fb30f4a21710c235b": {
     "model_module": "@jupyter-widgets/base",
     "model_name": "LayoutModel",
     "state": {
      "_model_module": "@jupyter-widgets/base",
      "_model_module_version": "1.2.0",
      "_model_name": "LayoutModel",
      "_view_count": null,
      "_view_module": "@jupyter-widgets/base",
      "_view_module_version": "1.2.0",
      "_view_name": "LayoutView",
      "align_content": null,
      "align_items": null,
      "align_self": null,
      "border": null,
      "bottom": null,
      "display": null,
      "flex": null,
      "flex_flow": null,
      "grid_area": null,
      "grid_auto_columns": null,
      "grid_auto_flow": null,
      "grid_auto_rows": null,
      "grid_column": null,
      "grid_gap": null,
      "grid_row": null,
      "grid_template_areas": null,
      "grid_template_columns": null,
      "grid_template_rows": null,
      "height": null,
      "justify_content": null,
      "justify_items": null,
      "left": null,
      "margin": null,
      "max_height": null,
      "max_width": null,
      "min_height": null,
      "min_width": null,
      "object_fit": null,
      "object_position": null,
      "order": null,
      "overflow": null,
      "overflow_x": null,
      "overflow_y": null,
      "padding": null,
      "right": null,
      "top": null,
      "visibility": null,
      "width": null
     }
    },
    "c576aedab0a24dd9bfedbb78779b58be": {
     "model_module": "@jupyter-widgets/controls",
     "model_name": "HTMLModel",
     "state": {
      "_dom_classes": [],
      "_model_module": "@jupyter-widgets/controls",
      "_model_module_version": "1.5.0",
      "_model_name": "HTMLModel",
      "_view_count": null,
      "_view_module": "@jupyter-widgets/controls",
      "_view_module_version": "1.5.0",
      "_view_name": "HTMLView",
      "description": "",
      "description_tooltip": null,
      "layout": "IPY_MODEL_12f5fcb5b1664a5fb6c93bf79783751d",
      "placeholder": "​",
      "style": "IPY_MODEL_c65173429dbe4686a92ad2b2d0e5dc70",
      "value": "100% 19/19 [00:00&lt;00:00, 21.49 file/s]"
     }
    },
    "c65173429dbe4686a92ad2b2d0e5dc70": {
     "model_module": "@jupyter-widgets/controls",
     "model_name": "DescriptionStyleModel",
     "state": {
      "_model_module": "@jupyter-widgets/controls",
      "_model_module_version": "1.5.0",
      "_model_name": "DescriptionStyleModel",
      "_view_count": null,
      "_view_module": "@jupyter-widgets/base",
      "_view_module_version": "1.2.0",
      "_view_name": "StyleView",
      "description_width": ""
     }
    },
    "d73018c1de644d8fbbed692dde1137cb": {
     "model_module": "@jupyter-widgets/controls",
     "model_name": "IntProgressModel",
     "state": {
      "_dom_classes": [],
      "_model_module": "@jupyter-widgets/controls",
      "_model_module_version": "1.5.0",
      "_model_name": "IntProgressModel",
      "_view_count": null,
      "_view_module": "@jupyter-widgets/controls",
      "_view_module_version": "1.5.0",
      "_view_name": "ProgressView",
      "bar_style": "success",
      "description": "Dl Completed...",
      "description_tooltip": null,
      "layout": "IPY_MODEL_64439f8853ba4d4fb30f4a21710c235b",
      "max": 19,
      "min": 0,
      "orientation": "horizontal",
      "style": "IPY_MODEL_1351d964b5544b9cb4bb4605fe09760f",
      "value": 19
     }
    },
    "ee4f6e70544e45b1916f00d63616e7d1": {
     "model_module": "@jupyter-widgets/controls",
     "model_name": "HBoxModel",
     "state": {
      "_dom_classes": [],
      "_model_module": "@jupyter-widgets/controls",
      "_model_module_version": "1.5.0",
      "_model_name": "HBoxModel",
      "_view_count": null,
      "_view_module": "@jupyter-widgets/controls",
      "_view_module_version": "1.5.0",
      "_view_name": "HBoxView",
      "box_style": "",
      "children": [
       "IPY_MODEL_d73018c1de644d8fbbed692dde1137cb",
       "IPY_MODEL_c576aedab0a24dd9bfedbb78779b58be"
      ],
      "layout": "IPY_MODEL_fa397be5738243b7a2a6f8d74f0c9306"
     }
    },
    "fa397be5738243b7a2a6f8d74f0c9306": {
     "model_module": "@jupyter-widgets/base",
     "model_name": "LayoutModel",
     "state": {
      "_model_module": "@jupyter-widgets/base",
      "_model_module_version": "1.2.0",
      "_model_name": "LayoutModel",
      "_view_count": null,
      "_view_module": "@jupyter-widgets/base",
      "_view_module_version": "1.2.0",
      "_view_name": "LayoutView",
      "align_content": null,
      "align_items": null,
      "align_self": null,
      "border": null,
      "bottom": null,
      "display": null,
      "flex": null,
      "flex_flow": null,
      "grid_area": null,
      "grid_auto_columns": null,
      "grid_auto_flow": null,
      "grid_auto_rows": null,
      "grid_column": null,
      "grid_gap": null,
      "grid_row": null,
      "grid_template_areas": null,
      "grid_template_columns": null,
      "grid_template_rows": null,
      "height": null,
      "justify_content": null,
      "justify_items": null,
      "left": null,
      "margin": null,
      "max_height": null,
      "max_width": null,
      "min_height": null,
      "min_width": null,
      "object_fit": null,
      "object_position": null,
      "order": null,
      "overflow": null,
      "overflow_x": null,
      "overflow_y": null,
      "padding": null,
      "right": null,
      "top": null,
      "visibility": null,
      "width": null
     }
    }
   }
  }
 },
 "nbformat": 4,
 "nbformat_minor": 1
}
