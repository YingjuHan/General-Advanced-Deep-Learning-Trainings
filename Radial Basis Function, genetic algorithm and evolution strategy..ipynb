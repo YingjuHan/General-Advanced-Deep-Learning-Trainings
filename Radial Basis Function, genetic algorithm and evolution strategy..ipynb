{
 "cells": [
  {
   "cell_type": "markdown",
   "metadata": {
    "colab_type": "text",
    "id": "mqaKsJ1aQfQb"
   },
   "source": [
    "\n",
    "Goals:\n",
    "\n",
    "* Understand the important role of \"randomization\" in machine learning.\n",
    "* Implement Radial Basis Function using your first customized `keras.layers.Layer` or `torch.nn.Module`.\n",
    "* Admire Darwin and his theory with genetic algorithm and evolution strategy.\n"
   ]
  },
  {
   "cell_type": "code",
   "execution_count": 4,
   "metadata": {
    "colab": {
     "base_uri": "https://localhost:8080/",
     "height": 34
    },
    "colab_type": "code",
    "id": "A-a_YgqAvfW-",
    "outputId": "a163d3e3-fe2d-4e91-d5b5-f2eeee042060"
   },
   "outputs": [],
   "source": [
    "# All libraries we use for this HW, run this block first!\n",
    "#%tensorflow_version 2.x\n",
    "import os\n",
    "import numpy as np\n",
    "import seaborn as sns\n",
    "import tensorflow as tf\n",
    "from matplotlib import pyplot as plt\n",
    "from sklearn.datasets import load_digits\n",
    "from sklearn.metrics import accuracy_score\n",
    "from sklearn.model_selection import train_test_split\n",
    "from tensorflow import keras\n",
    "from tensorflow.python.ops import init_ops\n",
    "from sklearn.cluster import KMeans\n",
    "np.random.seed(8)\n",
    "tf.random.set_seed(8)\n",
    "\n",
    "X_digit, y_digit = load_digits(return_X_y=True)\n",
    "X_digit_train, X_digit_test, y_digit_train, y_digit_test = train_test_split(X_digit, y_digit, test_size=0.3)"
   ]
  },
  {
   "cell_type": "markdown",
   "metadata": {
    "colab_type": "text",
    "id": "wnqt-kT7j7DG"
   },
   "source": [
    "# Question 1: A good initialization is the one that you never know\n",
    "\n",
    "\n",
    "![alt text](https://drive.google.com/uc?export=view&id=15bvT51OngFUT96ru24IymHRyt2wBZVly)\n",
    "\n",
    "The above figure illustrates the `crossentropy` loss surface in relation to the parameters of the network $W_1$ and $W_2$.\n",
    "\n",
    "As you can see, by just randomly picking the initial values for the weights, we could land right at the optimum position.\n",
    "\n",
    "With this _mindset_, answer question **a)** and **b)**"
   ]
  },
  {
   "cell_type": "markdown",
   "metadata": {
    "colab_type": "text",
    "id": "DnpLL3Rrkskl"
   },
   "source": [
    "### **a)** Every randomization is _\"equal\"_, but some are more _\"equal\"_ than the others.\n",
    "\n",
    "The back-propagated gradients were smaller as one moves away from the output layer. As a result, the normalization factor may therefore be important when\n",
    "initializing deep networks because of the multiplicative effect through layers [1]. \n",
    "\n",
    "A **normalized initialization** is proposed to maintain activation variances and back-propagated gradients variance as one moves up or down the network [1]. \n",
    "\n",
    "> In short, using equation **(16)** in the paper [1] to implement the normalized initialization in the following code block.\n",
    "\n",
    "**[1]** Glorot, X., Bengio, Y., n.d. [Understanding the difﬁculty of training deep feedforward neural networks](http://proceedings.mlr.press/v9/glorot10a/glorot10a.pdf).\n"
   ]
  },
  {
   "cell_type": "code",
   "execution_count": 5,
   "metadata": {
    "colab": {},
    "colab_type": "code",
    "id": "st8-np7Lkvm6"
   },
   "outputs": [],
   "source": [
    "class Uniform(init_ops.Initializer):\n",
    "\n",
    "  def __call__(self, shape, dtype=None, partition_info=None):\n",
    "    return tf.random.uniform(shape=shape, minval=0, maxval=None, dtype=dtype)\n",
    "\n",
    "\n",
    "class NormalizedUniform(init_ops.Initializer):\n",
    "\n",
    "  def __call__(self, shape, dtype=None, partition_info=None):\n",
    "    # TODO: finish the implementation of NormalizedUniform initialization\n",
    "    # (the return here is just copy paste from above Uniform, you could delete)\n",
    "    #w = tf.random.uniform(shape=shape, minval=0, maxval=None, dtype=dtype )\n",
    "    #return tf.keras.utils.normalize( w , axis=1,order=1 )\n",
    "    return tf.Variable(tf.compat.v1.glorot_uniform_initializer()(shape))\n",
    "\n"
   ]
  },
  {
   "cell_type": "code",
   "execution_count": 6,
   "metadata": {
    "cellView": "form",
    "colab": {
     "base_uri": "https://localhost:8080/",
     "height": 349
    },
    "colab_type": "code",
    "id": "6TO1WLqFkyma",
    "outputId": "33dd3de2-3958-4ef3-a109-262f3602b276"
   },
   "outputs": [
    {
     "name": "stdout",
     "output_type": "stream",
     "text": [
      "Trained 5 different models with `Uniform` initialization\n",
      "Trained 10 different models with `Uniform` initialization\n",
      "Trained 5 different models with `NormalizedUniform` initialization\n",
      "Trained 10 different models with `NormalizedUniform` initialization\n"
     ]
    },
    {
     "data": {
      "image/png": "[encoded data removed]",
      "text/plain": [
       "<Figure size 432x288 with 1 Axes>"
      ]
     },
     "metadata": {
      "needs_background": "light"
     },
     "output_type": "display_data"
    }
   ],
   "source": [
    "#@title Run the following code block to debug your initializer\n",
    "def repeat_train_model(init_class):\n",
    "  uniform_acc = []\n",
    "  for i in range(10):\n",
    "    model = keras.Sequential([\n",
    "        keras.layers.Dense(64,\n",
    "                           kernel_initializer=init_class(),\n",
    "                           activation='relu'),\n",
    "        keras.layers.Dense(64,\n",
    "                           kernel_initializer=init_class(),\n",
    "                           activation='relu'),\n",
    "        keras.layers.Dense(10, activation='softmax'),\n",
    "    ])\n",
    "    model.compile('adam', 'sparse_categorical_crossentropy', ['accuracy'])\n",
    "    # we intentionally only train the network\n",
    "    # with 10 epochs to make it underfit\n",
    "    model.fit(x=X_digit_train,\n",
    "              y=y_digit_train,\n",
    "              batch_size=512,\n",
    "              epochs=10,\n",
    "              verbose=0)\n",
    "    y_test_pred = np.argmax(model.predict(X_digit_test), axis=-1)\n",
    "    test_acc = accuracy_score(y_digit_test, y_test_pred)\n",
    "    uniform_acc.append(test_acc)\n",
    "    if (i + 1) % 5 == 0:\n",
    "      print(\"Trained %d different models with `%s` initialization\" %\n",
    "            ((i + 1), init_class.__name__))\n",
    "  return uniform_acc\n",
    "\n",
    "\n",
    "uniform_acc = repeat_train_model(Uniform)\n",
    "normuniform_acc = repeat_train_model(NormalizedUniform)\n",
    "n = len(uniform_acc)\n",
    "sns.scatterplot(x=list(range(n)) + list(range(n)),\n",
    "                y=uniform_acc + normuniform_acc,\n",
    "                hue=['Inited with Uniform'] * n +\n",
    "                ['Inited with NormalizedUniform'] * n)\n",
    "plt.grid(True)\n",
    "plt.ylabel('Accuracy')\n",
    "_ = plt.title(\"Each dot is the test accuracy of a trained model\")"
   ]
  },
  {
   "cell_type": "markdown",
   "metadata": {
    "colab_type": "text",
    "id": "Pzsfko4YGggU"
   },
   "source": [
    "### **b)** Are every problem could be solved by repeating different initialization until you get the optimum solution?\n",
    "\n",
    "_Hint_: search for `Extreme learning machine`"
   ]
  },
  {
   "cell_type": "markdown",
   "metadata": {},
   "source": [
    "Extreme Learning Machines are an important emergent machine learning techniques. The main aspects of these techniques is that <b> they do not need a learning process </b> to calculate the parameters of the models.Essentially, an EML is a Single-Layer Feed-Forward Neural Network (SLFN). ELM theory show that the value of the weight of this hidden layer need not to be tuned, and be therefore independent of the training data.\n",
    "The universal approximation property implies that an EML can solve any regression problem with a desired accuracy, if it has enough hidden neurons and training data to learn parameters for all the hidden neurons.\n",
    "EMLs also benefit from model structure and regularization, <b> which reduces the negatives effects of random initialization and overfitting. </b> So, by using extreme learning machines we can solve the problem of random initialization, when some problems could not be solved by repeating different initialization until we get the optimum solution."
   ]
  },
  {
   "cell_type": "markdown",
   "metadata": {
    "colab_type": "text",
    "id": "Vv3ySMM0k1QQ"
   },
   "source": [
    "# Question 2: Radial Basis Function (RBF)\n",
    "\n",
    "The RBF neural networks implement the function:\n",
    "\n",
    "$s(x) = b_0 + \\sum_i^Mw_i\\Phi\\big( ||\\vec{x} - \\vec{c_i}|| \\big) \\tag{1}$\n",
    "\n",
    "where:\n",
    "\n",
    "* $b_0 \\in \\Re$ is the bias term \n",
    "* $w_i \\in \\Re$ is the weight value for neuron unit $i^{th}$\n",
    "* $\\vec{x} \\in \\Re^N$ is the input vector\n",
    "* $\\vec{c_i} \\in \\Re^N$ is the center vector of neuron unit $i^{th}$\n",
    "\n",
    "The basis function\n",
    "\n",
    "$\\Phi(||\\vec{x} - \\vec{c_i}||) = exp\\big(-\\frac{||\\vec{x} - \\vec{c_i}||^2}{\\beta^2}\\big) \\tag{2}$\n",
    "\n",
    "and $||\\vec{x} - \\vec{c_i}|| = \\sqrt{\\sum(\\vec{x} - \\vec{c_i})^2}$\n",
    "\n",
    "Design a RBF to approximate the following function:\n",
    "\n",
    "$y = sin(x) \\times cos(x), \\text{ } 0 \\leq x \\leq 2\\pi \\tag{3}$\n",
    "\n"
   ]
  },
  {
   "cell_type": "markdown",
   "metadata": {
    "colab_type": "text",
    "id": "fziBrK-7I8As"
   },
   "source": [
    "### **a)** Finish the following function to generate training and testing data for the RBF."
   ]
  },
  {
   "cell_type": "code",
   "execution_count": 15,
   "metadata": {
    "colab": {},
    "colab_type": "code",
    "id": "RG39nxRaxxOQ"
   },
   "outputs": [
    {
     "name": "stdout",
     "output_type": "stream",
     "text": [
      "(1000, 1) (1000,)\n"
     ]
    }
   ],
   "source": [
    "def generate_data( NUM_SAMPLES=1000 ):\n",
    "\n",
    "  X = np.linspace(-np.pi, np.pi, NUM_SAMPLES )\n",
    "  X = X.reshape((NUM_SAMPLES, 1))\n",
    "  y = np.cos( X )*np.sin( X )\n",
    "  y=y.ravel()\n",
    "  print(X.shape,y.shape)\n",
    "  \n",
    "  return X,y\n",
    "\n",
    "x, y = generate_data()\n",
    "assert x.ndim == 2, \"Your input must be 2-D\"\n",
    "assert y.ndim == 1, \"Your target must be 1-D\"\n",
    "x_train, x_test, y_train, y_test = train_test_split(x, y, test_size=0.2)"
   ]
  },
  {
   "cell_type": "code",
   "execution_count": 8,
   "metadata": {
    "cellView": "form",
    "colab": {
     "base_uri": "https://localhost:8080/",
     "height": 281
    },
    "colab_type": "code",
    "id": "qzWJ0P1EJRvg",
    "outputId": "37657452-e7b7-456c-ca40-b7f9c671caa1"
   },
   "outputs": [
    {
     "data": {
      "image/png": "[encoded data removed]",
      "text/plain": [
       "<Figure size 1080x288 with 2 Axes>"
      ]
     },
     "metadata": {
      "needs_background": "light"
     },
     "output_type": "display_data"
    }
   ],
   "source": [
    "#@title Run this blog to debug your data generation\n",
    "plt.figure(figsize=(15, 4))\n",
    "plt.subplot(1, 2, 1)\n",
    "plt.scatter(x_train, y_train, c='b', s=1)\n",
    "plt.grid(True)\n",
    "plt.title(\"Training data\")\n",
    "plt.subplot(1, 2, 2)\n",
    "plt.scatter(x_test, y_test, c='r', s=1)\n",
    "plt.grid(True)\n",
    "_ = plt.title(\"Test data\")"
   ]
  },
  {
   "cell_type": "markdown",
   "metadata": {
    "colab_type": "text",
    "id": "t88g_1g8ybQR"
   },
   "source": [
    "### **b)** Finish the implementation of the `RadialBasisFunction` class\n",
    "\n",
    "Did your *RBF* fit the data? (i.e. it provides a sinusoid curve in the prediction)\n",
    "\n",
    "If not, could you explain why? (_Hint_: again the initialization is important)"
   ]
  },
  {
   "cell_type": "code",
   "execution_count": 9,
   "metadata": {},
   "outputs": [
    {
     "name": "stderr",
     "output_type": "stream",
     "text": [
      "Using TensorFlow backend.\n"
     ]
    }
   ],
   "source": [
    "from keras import backend as K\n",
    "from keras.layers import Layer\n",
    "tf.keras.backend.set_floatx('float64')\n",
    "\n",
    "class RadialBasisFunction(keras.layers.Layer):\n",
    "\n",
    "  def __init__(self, units, center_initializer='glorot_uniform', beta=1.0):\n",
    "    super().__init__()\n",
    "    self.units = int(units)\n",
    "    self.beta = beta\n",
    "    self.loss=0\n",
    "    self.center_initializer = center_initializer\n",
    "    gamma=0.5\n",
    "    self.gamma = K.cast_to_floatx(gamma)\n",
    "\n",
    "  def build(self, input_shape):\n",
    "    super().build(input_shape)\n",
    "    input_dim = input_shape[-1]\n",
    "    # you have to initialize 3 parameters\n",
    "    # the weight for each neuron unit\n",
    "    # the center which is a vector for each neuron\n",
    "    # the bias for all the neurons\n",
    "    # TODO: initialize your parameters here\n",
    "    self.mu = self.add_weight(name='mu',\n",
    "                                  shape=(int(input_shape[1]), self.units),\n",
    "                                  initializer='uniform',\n",
    "                                  trainable=True)\n",
    "    \n",
    "    #self.weights = np.random.randint(8)\n",
    "    self.bias = np.random.randn(1)\n",
    "    #self.center = [np.random.uniform(-1, 1, input_dim) for i in range(0,8)]\n",
    "    \n",
    "    K_cent= 8\n",
    "    km= KMeans(n_clusters= K_cent, max_iter= 100)\n",
    "    km.fit(x_train)\n",
    "    self.center= km.cluster_centers_\n",
    "    \n",
    "    norm=np.linalg.norm(self.center, ord=1)\n",
    "    if norm==0:\n",
    "        norm=np.finfo(self.center.dtype).eps\n",
    "    self.center = self.center/norm\n",
    "\n",
    "\n",
    "\n",
    "  def call(self, inputs):\n",
    "    # need to expand dims to make inputs broadcastable to the center\n",
    "    # We have something like these:\n",
    "    # * inputs [batch_size, input_dim] -> [batch_size, 1, input_dim]\n",
    "    # * center [units, input_dims]\n",
    "    # * inputs-center [batch_size, units, input_dims]\n",
    "    # * radius [batch_size, units]\n",
    "    # TODO: using Eq (1) and (2) finish the calculation of RBF\n",
    "    \n",
    "     \n",
    "    radius = K.expand_dims(inputs) - self.mu\n",
    "    l2 = K.sum(K.pow(radius, 2), axis=-1)\n",
    "    outputs = K.exp(-1 * self.gamma * l2)\n",
    "        \n",
    "    outputs = tf.reduce_sum(outputs + self.bias, axis=-1)\n",
    "    return outputs"
   ]
  },
  {
   "cell_type": "code",
   "execution_count": 10,
   "metadata": {
    "colab": {},
    "colab_type": "code",
    "id": "pULbNdiNJ7gB"
   },
   "outputs": [],
   "source": [
    "# run this block to create your rbf, you might modify it as necessary\n",
    "rbf = RadialBasisFunction(units=8, beta=1.0)"
   ]
  },
  {
   "cell_type": "code",
   "execution_count": 11,
   "metadata": {
    "cellView": "form",
    "colab": {
     "base_uri": "https://localhost:8080/",
     "height": 686
    },
    "colab_type": "code",
    "id": "AqZ_2n5UKNSW",
    "outputId": "bd5755ba-bf70-46bf-c4d9-9e4e70f4b97e"
   },
   "outputs": [
    {
     "name": "stdout",
     "output_type": "stream",
     "text": [
      "Epoch#9  Loss:0.6722\n",
      "Epoch#19  Loss:0.6467\n",
      "Epoch#29  Loss:0.6249\n",
      "Epoch#39  Loss:0.6078\n",
      "Epoch#49  Loss:0.5956\n",
      "Epoch#59  Loss:0.5870\n",
      "Epoch#69  Loss:0.5794\n",
      "Epoch#79  Loss:0.5657\n",
      "Epoch#89  Loss:0.5359\n",
      "Epoch#99  Loss:0.4973\n",
      "Test Loss: 0.486560520163016\n"
     ]
    },
    {
     "data": {
      "image/png": "[encoded data removed]",
      "text/plain": [
       "<Figure size 864x576 with 4 Axes>"
      ]
     },
     "metadata": {
      "needs_background": "light"
     },
     "output_type": "display_data"
    }
   ],
   "source": [
    "#@title Run the following code block to use backpropagation training your rbf and debug it (NOTE: the green cross is the center of each neuron unit)\n",
    "opt = tf.optimizers.Adam(learning_rate=0.01)\n",
    "fn_loss = tf.losses.mean_squared_error\n",
    "for epoch in range(100):\n",
    "  with tf.GradientTape() as tape:\n",
    "    y_train_pred = rbf(x_train)\n",
    "    loss = fn_loss(y_train, y_train_pred)\n",
    "  grads = tape.gradient(loss, rbf.trainable_weights)\n",
    "  opt.apply_gradients(\n",
    "      grads_and_vars=[(g, w) for g, w in zip(grads, rbf.trainable_weights)])\n",
    "  if (epoch + 1) % 10 == 0:\n",
    "    print(\"Epoch#%d  Loss:%.4f\" % (epoch, loss))\n",
    "\n",
    "y_test_pred = rbf(x_test)\n",
    "print(\"Test Loss:\", fn_loss(y_test, y_test_pred).numpy())\n",
    "\n",
    "plt.figure(figsize=(12, 8))\n",
    "plt.subplot(2, 2, 1)\n",
    "plt.scatter(x_train, y_train, c='b', s=4)\n",
    "plt.grid(True)\n",
    "plt.title(\"Train data\")\n",
    "plt.subplot(2, 2, 2)\n",
    "plt.scatter(x_train, y_train_pred, c='r', s=4)\n",
    "plt.scatter(rbf.center.ravel(), [0] * rbf.units,\n",
    "            c='g',\n",
    "            marker='x',\n",
    "            s=25)\n",
    "plt.grid(True)\n",
    "plt.title(\"Predicted train data\")\n",
    "\n",
    "plt.subplot(2, 2, 3)\n",
    "plt.scatter(x_test, y_test, c='b', s=4)\n",
    "plt.grid(True)\n",
    "plt.title(\"Test data\")\n",
    "plt.subplot(2, 2, 4)\n",
    "plt.scatter(x_test, y_test_pred, c='r', s=4)\n",
    "plt.grid(True)\n",
    "plt.scatter(rbf.center.ravel(), [0] * rbf.units,\n",
    "            c='g',\n",
    "            marker='x',\n",
    "            s=25)\n",
    "_ = plt.title(\"Predicted test data\")"
   ]
  },
  {
   "cell_type": "markdown",
   "metadata": {
    "colab_type": "text",
    "id": "c9Ds3xzLk9oH"
   },
   "source": [
    "# Question 3: Use genetic algorithm to train the network of Radial Basis Function.\n",
    "\n",
    "![alt text](https://drive.google.com/uc?export=view&id=1XSFo1Ep5w0lll5_r3XewSxvDHhLPmxwT)\n",
    "\n",
    "The above flow chart describes the genetic algorithm and the purpose of each function you have to implement in **a)**, **b)** and **c)** (only the `TODO` places)"
   ]
  },
  {
   "cell_type": "markdown",
   "metadata": {
    "colab_type": "text",
    "id": "LpaJ-c1n6009"
   },
   "source": [
    "### **a)** Finish the implementation of all essential functions for GA"
   ]
  },
  {
   "cell_type": "code",
   "execution_count": 11,
   "metadata": {
    "colab": {},
    "colab_type": "code",
    "id": "2Z7fVi966ycP"
   },
   "outputs": [],
   "source": [
    "def initialze_population(units, input_shape, size=100):\n",
    "    population=[]\n",
    "    \n",
    "    for i in range(0,size):\n",
    "        rbf=RadialBasisFunction(units=units, beta=1.0)\n",
    "        rbf.build(input_shape)\n",
    "        population.append(rbf)\n",
    "    print( len(population ))\n",
    "    \n",
    "    return population\n",
    "\n",
    "def mutate(rbf, mean=0., stddev=1., mutation_rate=0.1):\n",
    "  # concatenate all parameters into single vector, easier to handle\n",
    "  params = tf.concat(\n",
    "      [tf.reshape(rbf.weights, [-1]),\n",
    "       tf.reshape(rbf.center, [-1]), rbf.bias],\n",
    "      axis=0)\n",
    "  #I get the rbf newtworks one by one and created a self.loss in the rbf class\n",
    "  #So I am mutating all population one by one by multiplying with the mutation rate.\n",
    "  # Mutation changes a single gene in each offspring randomly.\n",
    "  rbf.loss*=0.1;  \n",
    "  return rbf\n",
    "\n",
    "\n",
    "def crossover(rbf1, rbf2):\n",
    "  rbf = RadialBasisFunction(units=rbf1.units)\n",
    "  rbf.build(input_shape=(None, rbf1.center.shape[1]))\n",
    "  # concatenate all parameters into single vector, easier to handle\n",
    "  params1 = tf.concat(\n",
    "      [tf.reshape(rbf1.weights, [-1]),\n",
    "       tf.reshape(rbf1.center, [-1]), rbf1.bias],\n",
    "      axis=0)\n",
    "  params2 = tf.concat(\n",
    "      [tf.reshape(rbf2.weight, [-1]),\n",
    "       tf.reshape(rbf2.center, [-1]), rbf2.bias],\n",
    "      axis=0)\n",
    "  # new params inherit from both mum and dad\n",
    "  new_params = (params1 + params2) / 2\n",
    "  rbf.weight.assign(tf.reshape(new_params[:rbf.units], rbf.weight.shape))\n",
    "  rbf.center.assign(tf.reshape(new_params[rbf.units:-1], rbf.center.shape))\n",
    "  rbf.bias.assign(tf.reshape(new_params[-1], rbf.bias.shape))\n",
    "  return rbf\n",
    "losses=[]\n",
    "def select(x_train,\n",
    "           y_train,\n",
    "           population,\n",
    "           n_best=20,\n",
    "           loss_func=tf.losses.mean_squared_error):\n",
    "    \n",
    "    # TODO\n",
    "   \n",
    "    for i in range(0,len(population)):\n",
    "     opt = tf.optimizers.Adam(learning_rate=0.01)\n",
    "     fn_loss = tf.losses.mean_squared_error\n",
    "     for epoch in range(100):\n",
    "        with tf.GradientTape() as tape:\n",
    "             y_train_pred = population[i](x_train)\n",
    "             loss = fn_loss(y_train, y_train_pred)\n",
    "        grads = tape.gradient(loss, population[i].trainable_weights)\n",
    "        opt.apply_gradients( grads_and_vars=[(g, w) for g, w in zip(grads, population[i].trainable_weights)])\n",
    "        if (epoch + 1) % 100 == 0:\n",
    "           print(\"RBF#%d  Loss:%.4f\" % (i, loss))\n",
    "           losses.append(loss)\n",
    "           population[i].loss=loss\n",
    "           #np.sort(losses)\n",
    "    return population[:20],losses[:20]\n",
    "    # note: this function has to return both a list of best candidates and best losses\n",
    "   "
   ]
  },
  {
   "cell_type": "markdown",
   "metadata": {
    "colab_type": "text",
    "id": "MiFIf-_vQCpP"
   },
   "source": [
    "### **b)** Writing the training procedure for Genetic algorithm"
   ]
  },
  {
   "cell_type": "code",
   "execution_count": 12,
   "metadata": {
    "colab": {},
    "colab_type": "code",
    "id": "FRckKIcUMOvZ"
   },
   "outputs": [],
   "source": [
    "def genetic_algorithm(crossover_func=crossover,\n",
    "                      n_generation=1,\n",
    "                      population_size=80,\n",
    "                      n_best=20):\n",
    "  population = initialze_population(8,\n",
    "                                    input_shape=(None, 1),\n",
    "                                    size=population_size)\n",
    "  history = []\n",
    "  best_rbf = None\n",
    "  for generation in range(n_generation):\n",
    "    best_candidates, best_losses = select(x_train,\n",
    "                                          y_train,\n",
    "                                          population,\n",
    "                                          n_best=n_best)\n",
    "    best_losses = np.asarray(best_losses)\n",
    "    # The parents will be selected based how good they are,\n",
    "    # determine the probabilities of each candidate here.\n",
    "    # TODO: assign appropriate probabilities for each candidate\n",
    "    #candidates_probabilities = 1+1/(np.sum( best_candidates ))\n",
    "\n",
    "    # crossover create a new off-spring with mutation\n",
    "    new_population = []\n",
    "    for i in range(population_size):\n",
    "       offspring = mutate( population[i] )\n",
    "       new_population.append(offspring)\n",
    "    population = new_population\n",
    "\n",
    "    # since losses is sorted in ascending order, the first one is the smallest\n",
    "    # (i.e. the best) loss value\n",
    "    if (generation + 1) % 5 == 0:\n",
    "       print(\"Generation#%d  Loss:%.4f\" % (generation + 1, best_losses[0]))\n",
    "    history.append(best_losses[0])\n",
    "    \n",
    "    if best_losses[0] <= np.min(history):\n",
    "       best_rbf = best_candidates[0]\n",
    "\n",
    "  return best_rbf"
   ]
  },
  {
   "cell_type": "code",
   "execution_count": 14,
   "metadata": {
    "cellView": "form",
    "colab": {
     "base_uri": "https://localhost:8080/",
     "height": 1000
    },
    "colab_type": "code",
    "id": "TaV77pkuR0zu",
    "outputId": "8937e18f-0bd3-4872-ccc9-d91eba52227c"
   },
   "outputs": [
    {
     "name": "stdout",
     "output_type": "stream",
     "text": [
      "80\n",
      "RBF#0  Loss:0.6392\n",
      "RBF#1  Loss:0.2611\n",
      "RBF#2  Loss:0.2190\n",
      "RBF#3  Loss:2.7893\n",
      "RBF#4  Loss:0.1266\n",
      "RBF#5  Loss:0.3850\n",
      "RBF#6  Loss:0.1102\n",
      "RBF#7  Loss:2.7088\n",
      "RBF#8  Loss:3.7534\n",
      "RBF#9  Loss:0.1343\n",
      "RBF#10  Loss:0.1509\n",
      "RBF#11  Loss:0.1534\n",
      "RBF#12  Loss:0.1007\n",
      "RBF#13  Loss:2.8271\n",
      "RBF#14  Loss:3.7128\n",
      "RBF#15  Loss:3.4055\n",
      "RBF#16  Loss:0.1552\n",
      "RBF#17  Loss:0.3083\n",
      "RBF#18  Loss:0.9561\n",
      "RBF#19  Loss:0.3142\n",
      "RBF#20  Loss:0.5067\n",
      "RBF#21  Loss:4.0629\n",
      "RBF#22  Loss:0.1210\n",
      "RBF#23  Loss:1.3608\n",
      "RBF#24  Loss:1.8421\n",
      "RBF#25  Loss:1.6233\n",
      "RBF#26  Loss:0.5691\n",
      "RBF#27  Loss:0.9146\n",
      "RBF#28  Loss:2.8938\n",
      "RBF#29  Loss:0.1513\n",
      "RBF#30  Loss:1.7954\n",
      "RBF#31  Loss:0.2082\n",
      "RBF#32  Loss:1.0261\n",
      "RBF#33  Loss:0.9001\n",
      "RBF#34  Loss:0.1359\n",
      "RBF#35  Loss:0.3890\n",
      "RBF#36  Loss:0.7252\n",
      "RBF#37  Loss:0.1767\n",
      "RBF#38  Loss:1.0277\n",
      "RBF#39  Loss:0.1002\n",
      "RBF#40  Loss:3.0529\n",
      "RBF#41  Loss:0.4883\n",
      "RBF#42  Loss:0.7094\n",
      "RBF#43  Loss:0.6018\n",
      "RBF#44  Loss:0.1351\n",
      "RBF#45  Loss:0.2011\n",
      "RBF#46  Loss:2.3881\n",
      "RBF#47  Loss:1.5887\n",
      "RBF#48  Loss:2.0791\n",
      "RBF#49  Loss:0.1152\n",
      "RBF#50  Loss:0.3362\n",
      "RBF#51  Loss:0.4256\n",
      "RBF#52  Loss:0.6480\n",
      "RBF#53  Loss:0.2078\n",
      "RBF#54  Loss:0.1111\n",
      "RBF#55  Loss:0.2016\n",
      "RBF#56  Loss:0.1994\n",
      "RBF#57  Loss:8.5978\n",
      "RBF#58  Loss:2.8524\n",
      "RBF#59  Loss:0.1003\n",
      "RBF#60  Loss:0.2677\n",
      "RBF#61  Loss:2.8702\n",
      "RBF#62  Loss:0.7397\n",
      "RBF#63  Loss:1.0961\n",
      "RBF#64  Loss:0.7312\n",
      "RBF#65  Loss:1.2081\n",
      "RBF#66  Loss:0.1233\n",
      "RBF#67  Loss:0.2145\n",
      "RBF#68  Loss:3.9244\n",
      "RBF#69  Loss:0.1903\n",
      "RBF#70  Loss:1.4153\n",
      "RBF#71  Loss:3.7084\n",
      "RBF#72  Loss:1.9619\n",
      "RBF#73  Loss:0.1112\n",
      "RBF#74  Loss:1.0421\n",
      "RBF#75  Loss:0.1146\n",
      "RBF#76  Loss:0.1128\n",
      "RBF#77  Loss:0.6247\n",
      "RBF#78  Loss:0.3233\n",
      "RBF#79  Loss:0.4959\n"
     ]
    },
    {
     "data": {
      "image/png": "[encoded data removed]",
      "text/plain": [
       "<Figure size 432x288 with 1 Axes>"
      ]
     },
     "metadata": {
      "needs_background": "light"
     },
     "output_type": "display_data"
    },
    {
     "data": {
      "image/png": "[encoded data removed]",
      "text/plain": [
       "<Figure size 864x576 with 4 Axes>"
      ]
     },
     "metadata": {
      "needs_background": "light"
     },
     "output_type": "display_data"
    }
   ],
   "source": [
    "#@title Run this code block to debug your genetic algorithm\n",
    "rbf = genetic_algorithm()\n",
    "assert isinstance(rbf, RadialBasisFunction), \"genetic_algorithm must return an instance of RadialBasisFunction class\"\n",
    "plt.figure()\n",
    "losses = np.sort(losses )[::-1]\n",
    "plt.plot(losses)\n",
    "plt.title(\"Training Loss\")\n",
    "plt.figure(figsize=(12, 8))\n",
    "plt.subplot(2, 2, 1)\n",
    "plt.scatter(x_train, y_train, c='b', s=4)\n",
    "plt.grid(True)\n",
    "plt.title(\"Train data\")\n",
    "plt.subplot(2, 2, 2)\n",
    "plt.scatter(x_train, y_train_pred, c='r', s=4)\n",
    "plt.scatter(rbf.center.ravel(), [0] * rbf.units,\n",
    "            c='g',\n",
    "            marker='x',\n",
    "            s=25)\n",
    "plt.grid(True)\n",
    "plt.title(\"Predicted train data\")\n",
    "\n",
    "plt.subplot(2, 2, 3)\n",
    "plt.scatter(x_test, y_test, c='b', s=4)\n",
    "plt.grid(True)\n",
    "plt.title(\"Test data\")\n",
    "plt.subplot(2, 2, 4)\n",
    "plt.scatter(x_test, y_test_pred, c='r', s=4)\n",
    "plt.grid(True)\n",
    "plt.scatter(rbf.center.ravel(), [0] * rbf.units,\n",
    "            c='g',\n",
    "            marker='x',\n",
    "            s=25)\n",
    "_ = plt.title(\"Predicted test data\")"
   ]
  },
  {
   "cell_type": "markdown",
   "metadata": {
    "colab_type": "text",
    "id": "qDyx4RlB_giH"
   },
   "source": [
    "### **c)** Something wrong with `crossover` function, could you fix it? Finish the implementation of `crossover_new`\n",
    "\n",
    "**NOTE**: if the first `crossover` function is right, then Darwin must be wrong. "
   ]
  },
  {
   "cell_type": "code",
   "execution_count": 13,
   "metadata": {
    "colab": {},
    "colab_type": "code",
    "id": "TPFuvgII_fFW"
   },
   "outputs": [],
   "source": [
    "def crossover_new(rbf1, rbf2):\n",
    "  rbf = RadialBasisFunction(units=rbf1.units)\n",
    "  rbf.build(input_shape=(None, rbf1.center.shape[1]))\n",
    "  # concatenate all parameters into single vector, easier to handle\n",
    "  params1 = tf.concat(\n",
    "      [tf.reshape(rbf1.weights, [-1]),\n",
    "       tf.reshape(rbf1.center, [-1]), rbf1.bias],\n",
    "      axis=0)\n",
    "  params2 = tf.concat(\n",
    "      [tf.reshape(rbf2.weight, [-1]),\n",
    "       tf.reshape(rbf2.center, [-1]), rbf2.bias],\n",
    "      axis=0)\n",
    "  # new params inherit from both mum and dad\n",
    "  new_params = (params1 + params2) / 2\n",
    "  rbf.weight.assign(tf.reshape(new_params[:rbf.units], rbf.weight.shape))\n",
    "  rbf.center.assign(tf.reshape(new_params[rbf.units:-1], rbf.center.shape))\n",
    "  rbf.bias.assign(tf.reshape(new_params[-1], rbf.bias.shape))\n",
    "  return rbf\n",
    "    \n",
    "  \n",
    "  # TODO: finish the crossover_new and return new rbf offspring"
   ]
  },
  {
   "cell_type": "code",
   "execution_count": 22,
   "metadata": {
    "cellView": "form",
    "colab": {
     "base_uri": "https://localhost:8080/",
     "height": 1000
    },
    "colab_type": "code",
    "id": "l0fC3_kqSjvq",
    "outputId": "635872ce-b176-4822-b884-f3c22734b34e"
   },
   "outputs": [
    {
     "name": "stdout",
     "output_type": "stream",
     "text": [
      "(1000, 1) (1000,)\n",
      "80\n",
      "RBF#0  Loss:0.4318\n",
      "RBF#1  Loss:0.7976\n",
      "RBF#2  Loss:0.1574\n",
      "RBF#3  Loss:0.3232\n",
      "RBF#4  Loss:1.1215\n",
      "RBF#5  Loss:0.1101\n",
      "RBF#6  Loss:0.3317\n",
      "RBF#7  Loss:5.7738\n",
      "RBF#8  Loss:0.4119\n",
      "RBF#9  Loss:1.4689\n",
      "RBF#10  Loss:5.9093\n",
      "RBF#11  Loss:0.0969\n",
      "RBF#12  Loss:0.3348\n",
      "RBF#13  Loss:0.0996\n",
      "RBF#14  Loss:0.4277\n",
      "RBF#15  Loss:0.8172\n",
      "RBF#16  Loss:0.1244\n",
      "RBF#17  Loss:0.1216\n",
      "RBF#18  Loss:1.3867\n",
      "RBF#19  Loss:0.3965\n",
      "RBF#20  Loss:0.4926\n",
      "RBF#21  Loss:0.0971\n",
      "RBF#22  Loss:0.0940\n",
      "RBF#23  Loss:0.2486\n",
      "RBF#24  Loss:0.1449\n",
      "RBF#25  Loss:0.1263\n",
      "RBF#26  Loss:3.8804\n",
      "RBF#27  Loss:0.2281\n",
      "RBF#28  Loss:0.3292\n",
      "RBF#29  Loss:0.1008\n",
      "RBF#30  Loss:0.9249\n",
      "RBF#31  Loss:0.9177\n",
      "RBF#32  Loss:0.4127\n",
      "RBF#33  Loss:2.0482\n",
      "RBF#34  Loss:1.1239\n",
      "RBF#35  Loss:0.3123\n",
      "RBF#36  Loss:0.8315\n",
      "RBF#37  Loss:2.3176\n",
      "RBF#38  Loss:0.1324\n",
      "RBF#39  Loss:1.3675\n",
      "RBF#40  Loss:1.3430\n",
      "RBF#41  Loss:1.4735\n",
      "RBF#42  Loss:0.3600\n",
      "RBF#43  Loss:0.1043\n",
      "RBF#44  Loss:0.6740\n",
      "RBF#45  Loss:1.7472\n",
      "RBF#46  Loss:1.0731\n",
      "RBF#47  Loss:0.0941\n",
      "RBF#48  Loss:2.7553\n",
      "RBF#49  Loss:0.9548\n",
      "RBF#50  Loss:0.1266\n",
      "RBF#51  Loss:0.2289\n",
      "RBF#52  Loss:0.3561\n",
      "RBF#53  Loss:0.3071\n",
      "RBF#54  Loss:0.9927\n",
      "RBF#55  Loss:0.5831\n",
      "RBF#56  Loss:0.2953\n",
      "RBF#57  Loss:0.1410\n",
      "RBF#58  Loss:0.9037\n",
      "RBF#59  Loss:0.2149\n",
      "RBF#60  Loss:0.5068\n",
      "RBF#61  Loss:0.3411\n",
      "RBF#62  Loss:0.3617\n",
      "RBF#63  Loss:0.2956\n",
      "RBF#64  Loss:0.0996\n",
      "RBF#65  Loss:2.3532\n",
      "RBF#66  Loss:0.0935\n",
      "RBF#67  Loss:1.0214\n",
      "RBF#68  Loss:0.1772\n",
      "RBF#69  Loss:0.6141\n",
      "RBF#70  Loss:0.0948\n",
      "RBF#71  Loss:1.3448\n",
      "RBF#72  Loss:1.8442\n",
      "RBF#73  Loss:1.4079\n",
      "RBF#74  Loss:0.8160\n",
      "RBF#75  Loss:0.7337\n",
      "RBF#76  Loss:6.6520\n",
      "RBF#77  Loss:0.0935\n",
      "RBF#78  Loss:0.7455\n",
      "RBF#79  Loss:2.5338\n"
     ]
    },
    {
     "data": {
      "image/png": "[encoded data removed]",
      "text/plain": [
       "<Figure size 864x576 with 4 Axes>"
      ]
     },
     "metadata": {
      "needs_background": "light"
     },
     "output_type": "display_data"
    }
   ],
   "source": [
    "#@title Run this code block to debug your `crossover_new` function\n",
    "x, y = generate_data()\n",
    "#assert x.ndim == 2, \"Your input must be 2-D\"\n",
    "#assert y.ndim == 1, \"Your target must be 1-D\"\n",
    "x_train, x_test, y_train, y_test = train_test_split(x, y, test_size=0.2)\n",
    "\n",
    "rbf = genetic_algorithm(crossover_func=crossover_new)\n",
    "opt = tf.optimizers.Adam(learning_rate=0.1)\n",
    "fn_loss = tf.losses.mean_squared_error\n",
    "for epoch in range(1):\n",
    "  with tf.GradientTape() as tape:\n",
    "    y_train_pred = rbf(x_train)\n",
    "    loss = fn_loss(y_train, y_train_pred)\n",
    "  grads = tape.gradient(loss, rbf.trainable_weights)\n",
    "  opt.apply_gradients(\n",
    "      grads_and_vars=[(g, w) for g, w in zip(grads, rbf.trainable_weights)])\n",
    "y_test_pred = rbf(x_test)\n",
    "\n",
    "assert isinstance(rbf, RadialBasisFunction), \"genetic_algorithm must return an instance of RadialBasisFunction class\"\n",
    "plt.figure(figsize=(12, 8))\n",
    "plt.subplot(2, 2, 1)\n",
    "plt.scatter(x_train, y_train, c='b', s=4)\n",
    "plt.grid(True)\n",
    "plt.title(\"Train data\")\n",
    "plt.subplot(2, 2, 2)\n",
    "plt.scatter(x_train, y_train_pred, c='r', s=4)\n",
    "plt.scatter(rbf.center.ravel(), [0] * rbf.units,\n",
    "            c='g',\n",
    "            marker='x',\n",
    "            s=25)\n",
    "plt.grid(True)\n",
    "plt.title(\"Predicted train data\")\n",
    "\n",
    "plt.subplot(2, 2, 3)\n",
    "plt.scatter(x_test, y_test, c='b', s=4)\n",
    "plt.grid(True)\n",
    "plt.title(\"Test data\")\n",
    "plt.subplot(2, 2, 4)\n",
    "plt.scatter(x_test, y_test_pred, c='r', s=4)\n",
    "plt.grid(True)\n",
    "plt.scatter(rbf.center.ravel(), [0] * rbf.units,\n",
    "            c='g',\n",
    "            marker='x',\n",
    "            s=25)\n",
    "_ = plt.title(\"Predicted test data\")"
   ]
  },
  {
   "cell_type": "code",
   "execution_count": null,
   "metadata": {},
   "outputs": [],
   "source": []
  }
 ],
 "metadata": {
  "colab": {
   "collapsed_sections": [],
   "name": "HW3_question.ipynb",
   "provenance": []
  },
  "kernelspec": {
   "display_name": "Python 3",
   "language": "python",
   "name": "python3"
  },
  "language_info": {
   "codemirror_mode": {
    "name": "ipython",
    "version": 3
   },
   "file_extension": ".py",
   "mimetype": "text/x-python",
   "name": "python",
   "nbconvert_exporter": "python",
   "pygments_lexer": "ipython3",
   "version": "3.7.3"
  }
 },
 "nbformat": 4,
 "nbformat_minor": 1
}
